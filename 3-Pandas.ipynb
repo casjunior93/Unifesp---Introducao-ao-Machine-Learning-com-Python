{
 "cells": [
  {
   "cell_type": "markdown",
   "id": "7ce47eff-3fd1-40a0-b3b4-342f57a9179f",
   "metadata": {},
   "source": [
    "# Biblioteca Pandas"
   ]
  },
  {
   "cell_type": "markdown",
   "id": "64a06179-ef43-47c5-a4bb-d7dc7e9d8aeb",
   "metadata": {},
   "source": [
    "É uma biblioteca open-source criada para Python"
   ]
  },
  {
   "cell_type": "markdown",
   "id": "c541e7f1-bc32-4aee-8c3f-2ef82e596a8a",
   "metadata": {},
   "source": [
    "Alta performance, voltada para uso de estruturas de dados e análise."
   ]
  },
  {
   "cell_type": "markdown",
   "id": "c50332d0-875f-411a-90bc-c2c6b43077a0",
   "metadata": {},
   "source": [
    "### Tipo básico - DataFrame"
   ]
  },
  {
   "cell_type": "markdown",
   "id": "b81372fe-6466-44f2-bad0-fc44ed90d337",
   "metadata": {},
   "source": [
    "* Tipo básico de dados do Pandas é o Dataframe\n",
    "* Possui formato tabular\n",
    "* Permite colunas de dados com tipos diferentes de dados\n",
    "* pode ser criado com base em diferentes tipos de arquivos como CSV ou XLSX."
   ]
  },
  {
   "cell_type": "markdown",
   "id": "ed944a2d-2a00-4030-b6a5-66fc61d0e0bf",
   "metadata": {},
   "source": [
    "### Lendo / Escrevendo dados"
   ]
  },
  {
   "cell_type": "code",
   "execution_count": 1,
   "id": "8373e58c-81cf-42c9-ac32-1016b0ae148b",
   "metadata": {},
   "outputs": [
    {
     "name": "stdout",
     "output_type": "stream",
     "text": [
      "      nome idade                cidade      estado     país\n",
      "0  Matheus    23         Guaratinguetá   São Paulo   Brasil\n",
      "1     José    18             Guarulhos   São Paulo   Brasil\n",
      "2   Marcos    21   São José dos Campos   São Paulo   Brasil\n",
      "3    Julia                     Taubaté   São Paulo   Brasil\n"
     ]
    }
   ],
   "source": [
    "import pandas as pd\n",
    "import numpy as np\n",
    "df = pd.read_csv('pessoas.csv')\n",
    "print(df)"
   ]
  },
  {
   "cell_type": "code",
   "execution_count": 2,
   "id": "662ea4f4-7d4f-4f42-9fde-1645f6641350",
   "metadata": {},
   "outputs": [
    {
     "data": {
      "text/html": [
       "<div>\n",
       "<style scoped>\n",
       "    .dataframe tbody tr th:only-of-type {\n",
       "        vertical-align: middle;\n",
       "    }\n",
       "\n",
       "    .dataframe tbody tr th {\n",
       "        vertical-align: top;\n",
       "    }\n",
       "\n",
       "    .dataframe thead th {\n",
       "        text-align: right;\n",
       "    }\n",
       "</style>\n",
       "<table border=\"1\" class=\"dataframe\">\n",
       "  <thead>\n",
       "    <tr style=\"text-align: right;\">\n",
       "      <th></th>\n",
       "      <th>nome</th>\n",
       "      <th>idade</th>\n",
       "      <th>cidade</th>\n",
       "      <th>estado</th>\n",
       "      <th>país</th>\n",
       "    </tr>\n",
       "  </thead>\n",
       "  <tbody>\n",
       "    <tr>\n",
       "      <th>0</th>\n",
       "      <td>Matheus</td>\n",
       "      <td>23</td>\n",
       "      <td>Guaratinguetá</td>\n",
       "      <td>São Paulo</td>\n",
       "      <td>Brasil</td>\n",
       "    </tr>\n",
       "    <tr>\n",
       "      <th>1</th>\n",
       "      <td>José</td>\n",
       "      <td>18</td>\n",
       "      <td>Guarulhos</td>\n",
       "      <td>São Paulo</td>\n",
       "      <td>Brasil</td>\n",
       "    </tr>\n",
       "  </tbody>\n",
       "</table>\n",
       "</div>"
      ],
      "text/plain": [
       "      nome idade          cidade      estado     país\n",
       "0  Matheus    23   Guaratinguetá   São Paulo   Brasil\n",
       "1     José    18       Guarulhos   São Paulo   Brasil"
      ]
     },
     "execution_count": 2,
     "metadata": {},
     "output_type": "execute_result"
    }
   ],
   "source": [
    "df.head(2)"
   ]
  },
  {
   "cell_type": "markdown",
   "id": "ca6562b0-c71e-4993-95ae-cc611dab292d",
   "metadata": {},
   "source": [
    "### Seleção de dados"
   ]
  },
  {
   "cell_type": "code",
   "execution_count": 3,
   "id": "14a9e404-6890-4f31-bbf1-72f78c349dd0",
   "metadata": {},
   "outputs": [
    {
     "data": {
      "text/plain": [
       "nome                    Marcos\n",
       "idade                       21\n",
       "cidade     São José dos Campos\n",
       "estado               São Paulo\n",
       "país                    Brasil\n",
       "Name: 2, dtype: object"
      ]
     },
     "execution_count": 3,
     "metadata": {},
     "output_type": "execute_result"
    }
   ],
   "source": [
    "df.loc[2] #localiza o indice 2"
   ]
  },
  {
   "cell_type": "code",
   "execution_count": 4,
   "id": "7fc1cef5-d323-4332-b9a7-c5472d67cf57",
   "metadata": {},
   "outputs": [
    {
     "data": {
      "text/html": [
       "<div>\n",
       "<style scoped>\n",
       "    .dataframe tbody tr th:only-of-type {\n",
       "        vertical-align: middle;\n",
       "    }\n",
       "\n",
       "    .dataframe tbody tr th {\n",
       "        vertical-align: top;\n",
       "    }\n",
       "\n",
       "    .dataframe thead th {\n",
       "        text-align: right;\n",
       "    }\n",
       "</style>\n",
       "<table border=\"1\" class=\"dataframe\">\n",
       "  <thead>\n",
       "    <tr style=\"text-align: right;\">\n",
       "      <th></th>\n",
       "      <th>nome</th>\n",
       "      <th>idade</th>\n",
       "      <th>cidade</th>\n",
       "      <th>estado</th>\n",
       "      <th>país</th>\n",
       "    </tr>\n",
       "  </thead>\n",
       "  <tbody>\n",
       "    <tr>\n",
       "      <th>3</th>\n",
       "      <td>Julia</td>\n",
       "      <td></td>\n",
       "      <td>Taubaté</td>\n",
       "      <td>São Paulo</td>\n",
       "      <td>Brasil</td>\n",
       "    </tr>\n",
       "    <tr>\n",
       "      <th>1</th>\n",
       "      <td>José</td>\n",
       "      <td>18</td>\n",
       "      <td>Guarulhos</td>\n",
       "      <td>São Paulo</td>\n",
       "      <td>Brasil</td>\n",
       "    </tr>\n",
       "  </tbody>\n",
       "</table>\n",
       "</div>"
      ],
      "text/plain": [
       "    nome idade      cidade      estado     país\n",
       "3  Julia           Taubaté   São Paulo   Brasil\n",
       "1   José    18   Guarulhos   São Paulo   Brasil"
      ]
     },
     "execution_count": 4,
     "metadata": {},
     "output_type": "execute_result"
    }
   ],
   "source": [
    "df.loc[[3,1]] #localiza os indices 3 e 1"
   ]
  },
  {
   "cell_type": "code",
   "execution_count": 5,
   "id": "c7bd5c40-d6ea-468c-9e79-c069d7b5c4c5",
   "metadata": {},
   "outputs": [
    {
     "data": {
      "text/html": [
       "<div>\n",
       "<style scoped>\n",
       "    .dataframe tbody tr th:only-of-type {\n",
       "        vertical-align: middle;\n",
       "    }\n",
       "\n",
       "    .dataframe tbody tr th {\n",
       "        vertical-align: top;\n",
       "    }\n",
       "\n",
       "    .dataframe thead th {\n",
       "        text-align: right;\n",
       "    }\n",
       "</style>\n",
       "<table border=\"1\" class=\"dataframe\">\n",
       "  <thead>\n",
       "    <tr style=\"text-align: right;\">\n",
       "      <th></th>\n",
       "      <th>nome</th>\n",
       "      <th>idade</th>\n",
       "      <th>cidade</th>\n",
       "      <th>estado</th>\n",
       "      <th>país</th>\n",
       "    </tr>\n",
       "  </thead>\n",
       "  <tbody>\n",
       "    <tr>\n",
       "      <th>0</th>\n",
       "      <td>Matheus</td>\n",
       "      <td>23</td>\n",
       "      <td>Guaratinguetá</td>\n",
       "      <td>São Paulo</td>\n",
       "      <td>Brasil</td>\n",
       "    </tr>\n",
       "  </tbody>\n",
       "</table>\n",
       "</div>"
      ],
      "text/plain": [
       "      nome idade          cidade      estado     país\n",
       "0  Matheus    23   Guaratinguetá   São Paulo   Brasil"
      ]
     },
     "execution_count": 5,
     "metadata": {},
     "output_type": "execute_result"
    }
   ],
   "source": [
    "df.loc[df['nome'] == 'Matheus']"
   ]
  },
  {
   "cell_type": "markdown",
   "id": "dd991554-c191-4743-ad12-acaba29b07e1",
   "metadata": {},
   "source": [
    "### Operações básicas"
   ]
  },
  {
   "cell_type": "code",
   "execution_count": 6,
   "id": "6d71892b-7780-4161-b150-b9f99f756628",
   "metadata": {},
   "outputs": [
    {
     "data": {
      "text/html": [
       "<div>\n",
       "<style scoped>\n",
       "    .dataframe tbody tr th:only-of-type {\n",
       "        vertical-align: middle;\n",
       "    }\n",
       "\n",
       "    .dataframe tbody tr th {\n",
       "        vertical-align: top;\n",
       "    }\n",
       "\n",
       "    .dataframe thead th {\n",
       "        text-align: right;\n",
       "    }\n",
       "</style>\n",
       "<table border=\"1\" class=\"dataframe\">\n",
       "  <thead>\n",
       "    <tr style=\"text-align: right;\">\n",
       "      <th></th>\n",
       "      <th>A</th>\n",
       "      <th>B</th>\n",
       "      <th>C</th>\n",
       "      <th>D</th>\n",
       "    </tr>\n",
       "  </thead>\n",
       "  <tbody>\n",
       "    <tr>\n",
       "      <th>2000-01-01</th>\n",
       "      <td>-1.102209</td>\n",
       "      <td>-0.400117</td>\n",
       "      <td>-0.570612</td>\n",
       "      <td>-1.059288</td>\n",
       "    </tr>\n",
       "    <tr>\n",
       "      <th>2000-01-02</th>\n",
       "      <td>-0.603921</td>\n",
       "      <td>0.460393</td>\n",
       "      <td>-0.648860</td>\n",
       "      <td>0.031739</td>\n",
       "    </tr>\n",
       "    <tr>\n",
       "      <th>2000-01-03</th>\n",
       "      <td>0.880809</td>\n",
       "      <td>0.303784</td>\n",
       "      <td>-0.116485</td>\n",
       "      <td>0.437841</td>\n",
       "    </tr>\n",
       "    <tr>\n",
       "      <th>2000-01-04</th>\n",
       "      <td>-0.555463</td>\n",
       "      <td>-1.963014</td>\n",
       "      <td>-0.531609</td>\n",
       "      <td>0.550216</td>\n",
       "    </tr>\n",
       "    <tr>\n",
       "      <th>2000-01-05</th>\n",
       "      <td>2.142939</td>\n",
       "      <td>0.802637</td>\n",
       "      <td>0.660146</td>\n",
       "      <td>-1.204954</td>\n",
       "    </tr>\n",
       "    <tr>\n",
       "      <th>2000-01-06</th>\n",
       "      <td>-1.263997</td>\n",
       "      <td>1.594873</td>\n",
       "      <td>-0.115227</td>\n",
       "      <td>1.619568</td>\n",
       "    </tr>\n",
       "    <tr>\n",
       "      <th>2000-01-07</th>\n",
       "      <td>-0.247972</td>\n",
       "      <td>-0.971303</td>\n",
       "      <td>-0.326219</td>\n",
       "      <td>0.628603</td>\n",
       "    </tr>\n",
       "    <tr>\n",
       "      <th>2000-01-08</th>\n",
       "      <td>1.889637</td>\n",
       "      <td>0.818183</td>\n",
       "      <td>0.666587</td>\n",
       "      <td>-0.531312</td>\n",
       "    </tr>\n",
       "  </tbody>\n",
       "</table>\n",
       "</div>"
      ],
      "text/plain": [
       "                   A         B         C         D\n",
       "2000-01-01 -1.102209 -0.400117 -0.570612 -1.059288\n",
       "2000-01-02 -0.603921  0.460393 -0.648860  0.031739\n",
       "2000-01-03  0.880809  0.303784 -0.116485  0.437841\n",
       "2000-01-04 -0.555463 -1.963014 -0.531609  0.550216\n",
       "2000-01-05  2.142939  0.802637  0.660146 -1.204954\n",
       "2000-01-06 -1.263997  1.594873 -0.115227  1.619568\n",
       "2000-01-07 -0.247972 -0.971303 -0.326219  0.628603\n",
       "2000-01-08  1.889637  0.818183  0.666587 -0.531312"
      ]
     },
     "execution_count": 6,
     "metadata": {},
     "output_type": "execute_result"
    }
   ],
   "source": [
    "dates = pd.date_range('1/1/2000', periods=8)\n",
    "df = pd.DataFrame(np.random.randn(8,4), index=dates, columns=['A', 'B', 'C', 'D'])\n",
    "df"
   ]
  },
  {
   "cell_type": "markdown",
   "id": "cb853cdb-4a7d-4437-be69-2a20621844d9",
   "metadata": {},
   "source": [
    "Média"
   ]
  },
  {
   "cell_type": "code",
   "execution_count": 7,
   "id": "6e41f413-cd95-4f8e-b88b-ff3d51f62ed8",
   "metadata": {},
   "outputs": [
    {
     "data": {
      "text/plain": [
       "A    0.142478\n",
       "B    0.080680\n",
       "C   -0.122785\n",
       "D    0.059052\n",
       "dtype: float64"
      ]
     },
     "execution_count": 7,
     "metadata": {},
     "output_type": "execute_result"
    }
   ],
   "source": [
    "df.mean()"
   ]
  },
  {
   "cell_type": "markdown",
   "id": "5ee93d0c-ccc8-4191-b5b2-38a446b72997",
   "metadata": {},
   "source": [
    "Soma"
   ]
  },
  {
   "cell_type": "code",
   "execution_count": 8,
   "id": "43fb0ddc-305d-41e4-9748-8322e72f73f8",
   "metadata": {},
   "outputs": [
    {
     "data": {
      "text/html": [
       "<div>\n",
       "<style scoped>\n",
       "    .dataframe tbody tr th:only-of-type {\n",
       "        vertical-align: middle;\n",
       "    }\n",
       "\n",
       "    .dataframe tbody tr th {\n",
       "        vertical-align: top;\n",
       "    }\n",
       "\n",
       "    .dataframe thead th {\n",
       "        text-align: right;\n",
       "    }\n",
       "</style>\n",
       "<table border=\"1\" class=\"dataframe\">\n",
       "  <thead>\n",
       "    <tr style=\"text-align: right;\">\n",
       "      <th></th>\n",
       "      <th>A</th>\n",
       "      <th>B</th>\n",
       "      <th>C</th>\n",
       "      <th>D</th>\n",
       "    </tr>\n",
       "  </thead>\n",
       "  <tbody>\n",
       "    <tr>\n",
       "      <th>2000-01-01</th>\n",
       "      <td>-0.102209</td>\n",
       "      <td>0.599883</td>\n",
       "      <td>0.429388</td>\n",
       "      <td>-0.059288</td>\n",
       "    </tr>\n",
       "    <tr>\n",
       "      <th>2000-01-02</th>\n",
       "      <td>0.396079</td>\n",
       "      <td>1.460393</td>\n",
       "      <td>0.351140</td>\n",
       "      <td>1.031739</td>\n",
       "    </tr>\n",
       "    <tr>\n",
       "      <th>2000-01-03</th>\n",
       "      <td>1.880809</td>\n",
       "      <td>1.303784</td>\n",
       "      <td>0.883515</td>\n",
       "      <td>1.437841</td>\n",
       "    </tr>\n",
       "    <tr>\n",
       "      <th>2000-01-04</th>\n",
       "      <td>0.444537</td>\n",
       "      <td>-0.963014</td>\n",
       "      <td>0.468391</td>\n",
       "      <td>1.550216</td>\n",
       "    </tr>\n",
       "    <tr>\n",
       "      <th>2000-01-05</th>\n",
       "      <td>3.142939</td>\n",
       "      <td>1.802637</td>\n",
       "      <td>1.660146</td>\n",
       "      <td>-0.204954</td>\n",
       "    </tr>\n",
       "    <tr>\n",
       "      <th>2000-01-06</th>\n",
       "      <td>-0.263997</td>\n",
       "      <td>2.594873</td>\n",
       "      <td>0.884773</td>\n",
       "      <td>2.619568</td>\n",
       "    </tr>\n",
       "    <tr>\n",
       "      <th>2000-01-07</th>\n",
       "      <td>0.752028</td>\n",
       "      <td>0.028697</td>\n",
       "      <td>0.673781</td>\n",
       "      <td>1.628603</td>\n",
       "    </tr>\n",
       "    <tr>\n",
       "      <th>2000-01-08</th>\n",
       "      <td>2.889637</td>\n",
       "      <td>1.818183</td>\n",
       "      <td>1.666587</td>\n",
       "      <td>0.468688</td>\n",
       "    </tr>\n",
       "  </tbody>\n",
       "</table>\n",
       "</div>"
      ],
      "text/plain": [
       "                   A         B         C         D\n",
       "2000-01-01 -0.102209  0.599883  0.429388 -0.059288\n",
       "2000-01-02  0.396079  1.460393  0.351140  1.031739\n",
       "2000-01-03  1.880809  1.303784  0.883515  1.437841\n",
       "2000-01-04  0.444537 -0.963014  0.468391  1.550216\n",
       "2000-01-05  3.142939  1.802637  1.660146 -0.204954\n",
       "2000-01-06 -0.263997  2.594873  0.884773  2.619568\n",
       "2000-01-07  0.752028  0.028697  0.673781  1.628603\n",
       "2000-01-08  2.889637  1.818183  1.666587  0.468688"
      ]
     },
     "execution_count": 8,
     "metadata": {},
     "output_type": "execute_result"
    }
   ],
   "source": [
    "def somaUm(x):\n",
    "    return x+1\n",
    "df = df.apply(somaUm) #executa a função para cada um dos valores\n",
    "df"
   ]
  },
  {
   "cell_type": "markdown",
   "id": "079c1241-a7f2-4930-9678-731aa785a8d7",
   "metadata": {},
   "source": [
    "### Removendo Colunas"
   ]
  },
  {
   "cell_type": "code",
   "execution_count": 9,
   "id": "117bc449-62d7-433b-bbcb-c57d04aff78a",
   "metadata": {},
   "outputs": [
    {
     "data": {
      "text/html": [
       "<div>\n",
       "<style scoped>\n",
       "    .dataframe tbody tr th:only-of-type {\n",
       "        vertical-align: middle;\n",
       "    }\n",
       "\n",
       "    .dataframe tbody tr th {\n",
       "        vertical-align: top;\n",
       "    }\n",
       "\n",
       "    .dataframe thead th {\n",
       "        text-align: right;\n",
       "    }\n",
       "</style>\n",
       "<table border=\"1\" class=\"dataframe\">\n",
       "  <thead>\n",
       "    <tr style=\"text-align: right;\">\n",
       "      <th></th>\n",
       "      <th>A</th>\n",
       "      <th>B</th>\n",
       "    </tr>\n",
       "  </thead>\n",
       "  <tbody>\n",
       "    <tr>\n",
       "      <th>2000-01-01</th>\n",
       "      <td>-0.102209</td>\n",
       "      <td>0.599883</td>\n",
       "    </tr>\n",
       "    <tr>\n",
       "      <th>2000-01-02</th>\n",
       "      <td>0.396079</td>\n",
       "      <td>1.460393</td>\n",
       "    </tr>\n",
       "    <tr>\n",
       "      <th>2000-01-03</th>\n",
       "      <td>1.880809</td>\n",
       "      <td>1.303784</td>\n",
       "    </tr>\n",
       "    <tr>\n",
       "      <th>2000-01-04</th>\n",
       "      <td>0.444537</td>\n",
       "      <td>-0.963014</td>\n",
       "    </tr>\n",
       "    <tr>\n",
       "      <th>2000-01-05</th>\n",
       "      <td>3.142939</td>\n",
       "      <td>1.802637</td>\n",
       "    </tr>\n",
       "    <tr>\n",
       "      <th>2000-01-06</th>\n",
       "      <td>-0.263997</td>\n",
       "      <td>2.594873</td>\n",
       "    </tr>\n",
       "    <tr>\n",
       "      <th>2000-01-07</th>\n",
       "      <td>0.752028</td>\n",
       "      <td>0.028697</td>\n",
       "    </tr>\n",
       "    <tr>\n",
       "      <th>2000-01-08</th>\n",
       "      <td>2.889637</td>\n",
       "      <td>1.818183</td>\n",
       "    </tr>\n",
       "  </tbody>\n",
       "</table>\n",
       "</div>"
      ],
      "text/plain": [
       "                   A         B\n",
       "2000-01-01 -0.102209  0.599883\n",
       "2000-01-02  0.396079  1.460393\n",
       "2000-01-03  1.880809  1.303784\n",
       "2000-01-04  0.444537 -0.963014\n",
       "2000-01-05  3.142939  1.802637\n",
       "2000-01-06 -0.263997  2.594873\n",
       "2000-01-07  0.752028  0.028697\n",
       "2000-01-08  2.889637  1.818183"
      ]
     },
     "execution_count": 9,
     "metadata": {},
     "output_type": "execute_result"
    }
   ],
   "source": [
    "df = df.drop(columns=['C', 'D'])\n",
    "df"
   ]
  },
  {
   "cell_type": "markdown",
   "id": "7057ae45-db9a-4de0-9845-8b4ee22c60af",
   "metadata": {},
   "source": [
    "### Localizando por linha e coluna"
   ]
  },
  {
   "cell_type": "code",
   "execution_count": 10,
   "id": "6ce73a71-32cb-4747-aade-b3411d0edc8d",
   "metadata": {},
   "outputs": [
    {
     "data": {
      "text/plain": [
       "0.5998834078436348"
      ]
     },
     "execution_count": 10,
     "metadata": {},
     "output_type": "execute_result"
    }
   ],
   "source": [
    "df.loc['2000-01-01', 'B']"
   ]
  },
  {
   "cell_type": "markdown",
   "id": "82ebc7a1-61f8-4ff1-b2a5-56f17c775b61",
   "metadata": {},
   "source": [
    "### Removendo Linhas"
   ]
  },
  {
   "cell_type": "code",
   "execution_count": 11,
   "id": "7217992a-f214-41d0-9e38-c2ef319a72bb",
   "metadata": {},
   "outputs": [
    {
     "data": {
      "text/html": [
       "<div>\n",
       "<style scoped>\n",
       "    .dataframe tbody tr th:only-of-type {\n",
       "        vertical-align: middle;\n",
       "    }\n",
       "\n",
       "    .dataframe tbody tr th {\n",
       "        vertical-align: top;\n",
       "    }\n",
       "\n",
       "    .dataframe thead th {\n",
       "        text-align: right;\n",
       "    }\n",
       "</style>\n",
       "<table border=\"1\" class=\"dataframe\">\n",
       "  <thead>\n",
       "    <tr style=\"text-align: right;\">\n",
       "      <th></th>\n",
       "      <th>idade</th>\n",
       "      <th>cidade</th>\n",
       "      <th>estado</th>\n",
       "      <th>país</th>\n",
       "    </tr>\n",
       "    <tr>\n",
       "      <th>nome</th>\n",
       "      <th></th>\n",
       "      <th></th>\n",
       "      <th></th>\n",
       "      <th></th>\n",
       "    </tr>\n",
       "  </thead>\n",
       "  <tbody>\n",
       "    <tr>\n",
       "      <th>José</th>\n",
       "      <td>18</td>\n",
       "      <td>Guarulhos</td>\n",
       "      <td>São Paulo</td>\n",
       "      <td>Brasil</td>\n",
       "    </tr>\n",
       "    <tr>\n",
       "      <th>Marcos</th>\n",
       "      <td>21</td>\n",
       "      <td>São José dos Campos</td>\n",
       "      <td>São Paulo</td>\n",
       "      <td>Brasil</td>\n",
       "    </tr>\n",
       "  </tbody>\n",
       "</table>\n",
       "</div>"
      ],
      "text/plain": [
       "       idade                cidade      estado     país\n",
       "nome                                                   \n",
       "José      18             Guarulhos   São Paulo   Brasil\n",
       "Marcos    21   São José dos Campos   São Paulo   Brasil"
      ]
     },
     "execution_count": 11,
     "metadata": {},
     "output_type": "execute_result"
    }
   ],
   "source": [
    "df2 = pd.read_csv('pessoas.csv',index_col=0) #primeira coluna no arquivo csv para ser usado como índice\n",
    "df2.drop(['Matheus','Julia'],axis=0)"
   ]
  },
  {
   "cell_type": "markdown",
   "id": "38f18506-bdbd-4bba-9a0d-1fc859374e58",
   "metadata": {},
   "source": [
    "### Iterando sobre o dataframe"
   ]
  },
  {
   "cell_type": "code",
   "execution_count": 15,
   "id": "55c2196f-d38b-4f6d-a5dc-ef9717df6c80",
   "metadata": {},
   "outputs": [
    {
     "name": "stdout",
     "output_type": "stream",
     "text": [
      "Index:  Matheus\n",
      "Linha: \n",
      " idade                 23\n",
      "cidade     Guaratinguetá\n",
      "estado         São Paulo\n",
      "país              Brasil\n",
      "Name: Matheus, dtype: object\n",
      "----------------------------------------------------------------------\n",
      "Index:  José\n",
      "Linha: \n",
      " idade             18\n",
      "cidade     Guarulhos\n",
      "estado     São Paulo\n",
      "país          Brasil\n",
      "Name: José, dtype: object\n",
      "----------------------------------------------------------------------\n",
      "Index:  Marcos\n",
      "Linha: \n",
      " idade                       21\n",
      "cidade     São José dos Campos\n",
      "estado               São Paulo\n",
      "país                    Brasil\n",
      "Name: Marcos, dtype: object\n",
      "----------------------------------------------------------------------\n",
      "Index:  Julia\n",
      "Linha: \n",
      " idade               \n",
      "cidade       Taubaté\n",
      "estado     São Paulo\n",
      "país          Brasil\n",
      "Name: Julia, dtype: object\n",
      "----------------------------------------------------------------------\n"
     ]
    }
   ],
   "source": [
    "for i, linha in df2.iterrows():\n",
    "    print('Index: ', i)\n",
    "    print('Linha: \\n', linha)\n",
    "    print('-'*70)"
   ]
  },
  {
   "cell_type": "code",
   "execution_count": null,
   "id": "7d84c1ba-e17e-4c43-a5e2-e14e2bec439d",
   "metadata": {},
   "outputs": [],
   "source": []
  }
 ],
 "metadata": {
  "kernelspec": {
   "display_name": "Python 3",
   "language": "python",
   "name": "python3"
  },
  "language_info": {
   "codemirror_mode": {
    "name": "ipython",
    "version": 3
   },
   "file_extension": ".py",
   "mimetype": "text/x-python",
   "name": "python",
   "nbconvert_exporter": "python",
   "pygments_lexer": "ipython3",
   "version": "3.8.8"
  }
 },
 "nbformat": 4,
 "nbformat_minor": 5
}
