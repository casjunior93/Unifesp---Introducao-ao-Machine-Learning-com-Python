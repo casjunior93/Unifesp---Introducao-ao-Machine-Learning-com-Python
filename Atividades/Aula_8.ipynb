{
  "nbformat": 4,
  "nbformat_minor": 0,
  "metadata": {
    "colab": {
      "name": "Aula 8",
      "provenance": [],
      "collapsed_sections": []
    },
    "kernelspec": {
      "name": "python3",
      "display_name": "Python 3"
    },
    "language_info": {
      "name": "python"
    }
  },
  "cells": [
    {
      "cell_type": "code",
      "metadata": {
        "id": "PXDii9vQZ_oG"
      },
      "source": [
        "from sklearn.tree import DecisionTreeRegressor\n",
        "from sklearn.svm import SVR\n",
        "from sklearn.linear_model import SGDRegressor\n",
        "from sklearn.neural_network import MLPRegressor\n",
        "from sklearn.ensemble import RandomForestRegressor\n",
        "from sklearn.preprocessing import MinMaxScaler\n",
        "from sklearn.utils import shuffle\n",
        "import sklearn.metrics as metrics\n",
        "import pandas as pd\n",
        "import numpy as np"
      ],
      "execution_count": null,
      "outputs": []
    },
    {
      "cell_type": "markdown",
      "metadata": {
        "id": "8pxFOIwQc_oZ"
      },
      "source": [
        "**Carregamento e processamento do dataset**"
      ]
    },
    {
      "cell_type": "code",
      "metadata": {
        "colab": {
          "base_uri": "https://localhost:8080/"
        },
        "id": "XyV6Gz0rc0Lk",
        "outputId": "426e13ec-8d43-4236-9f3b-608fd85db822"
      },
      "source": [
        "dataset = pd.read_csv(\"housing.csv\")\n",
        "print(dataset)"
      ],
      "execution_count": null,
      "outputs": [
        {
          "output_type": "stream",
          "name": "stdout",
          "text": [
            "       longitude  latitude  ...  median_house_value  ocean_proximity\n",
            "0        -122.23     37.88  ...            452600.0         NEAR BAY\n",
            "1        -122.22     37.86  ...            358500.0         NEAR BAY\n",
            "2        -122.24     37.85  ...            352100.0         NEAR BAY\n",
            "3        -122.25     37.85  ...            341300.0         NEAR BAY\n",
            "4        -122.25     37.85  ...            342200.0         NEAR BAY\n",
            "...          ...       ...  ...                 ...              ...\n",
            "20635    -121.09     39.48  ...             78100.0           INLAND\n",
            "20636    -121.21     39.49  ...             77100.0           INLAND\n",
            "20637    -121.22     39.43  ...             92300.0           INLAND\n",
            "20638    -121.32     39.43  ...             84700.0           INLAND\n",
            "20639    -121.24     39.37  ...             89400.0           INLAND\n",
            "\n",
            "[20640 rows x 10 columns]\n"
          ]
        }
      ]
    },
    {
      "cell_type": "code",
      "metadata": {
        "id": "FkzJrExofXwc"
      },
      "source": [
        "dataset = dataset.dropna()"
      ],
      "execution_count": null,
      "outputs": []
    },
    {
      "cell_type": "code",
      "metadata": {
        "id": "qIlXmjOidTWr"
      },
      "source": [
        "dataset =  shuffle(dataset)"
      ],
      "execution_count": null,
      "outputs": []
    },
    {
      "cell_type": "code",
      "metadata": {
        "colab": {
          "base_uri": "https://localhost:8080/"
        },
        "id": "5i6TyCUHdYaL",
        "outputId": "d1118ad4-746c-4ce2-817b-94df2ff6a6db"
      },
      "source": [
        "dataset[\"ocean_proximity\"] = dataset[\"ocean_proximity\"].astype('category')\n",
        "dataset[\"ocean_proximity\"] = dataset[\"ocean_proximity\"].cat.codes\n",
        "print(dataset.head(10))"
      ],
      "execution_count": null,
      "outputs": [
        {
          "output_type": "stream",
          "name": "stdout",
          "text": [
            "       longitude  latitude  ...  median_house_value  ocean_proximity\n",
            "17765    -121.86     37.35  ...            153300.0                0\n",
            "20354    -118.97     34.18  ...            293100.0                0\n",
            "48       -122.26     37.82  ...            187500.0                3\n",
            "10460    -117.63     33.47  ...            256000.0                4\n",
            "3536     -118.50     34.26  ...            237300.0                0\n",
            "17609    -121.92     37.29  ...            344600.0                0\n",
            "20358    -118.95     34.18  ...            254900.0                0\n",
            "19585    -120.69     37.59  ...             81800.0                1\n",
            "10648    -117.78     33.54  ...            450000.0                0\n",
            "3936     -118.57     34.22  ...            255200.0                0\n",
            "\n",
            "[10 rows x 10 columns]\n"
          ]
        }
      ]
    },
    {
      "cell_type": "code",
      "metadata": {
        "colab": {
          "base_uri": "https://localhost:8080/"
        },
        "id": "kEAqdQQcdfbH",
        "outputId": "e4e0cc24-aa18-46d4-af2b-60724855aa19"
      },
      "source": [
        "colunas = list(dataset.columns)\n",
        "culunas = colunas.pop(8)\n",
        "for col in colunas:\n",
        "  x = np.array(dataset[col]).reshape(-1,1)\n",
        "  x_normalized = MinMaxScaler().fit_transform(x)\n",
        "  dataset[col] = x_normalized\n",
        "\n",
        "y = np.array(dataset['median_house_value']).reshape(-1,1)\n",
        "normalizador_alvo = MinMaxScaler().fit(y)\n",
        "\n",
        "y_normalized = normalizador_alvo.transform(y)\n",
        "dataset['median_house_value'] = y_normalized\n",
        "\n",
        "print(dataset.head(10))"
      ],
      "execution_count": null,
      "outputs": [
        {
          "output_type": "stream",
          "name": "stdout",
          "text": [
            "       longitude  latitude  ...  median_house_value  ocean_proximity\n",
            "17765   0.248008  0.511158  ...            0.285156             0.00\n",
            "20354   0.535857  0.174283  ...            0.573402             0.00\n",
            "48      0.208167  0.561105  ...            0.355671             0.75\n",
            "10460   0.669323  0.098831  ...            0.496907             1.00\n",
            "3536    0.582669  0.182784  ...            0.458351             0.00\n",
            "17609   0.242032  0.504782  ...            0.679587             0.00\n",
            "20358   0.537849  0.174283  ...            0.494639             0.00\n",
            "19585   0.364542  0.536663  ...            0.137733             0.25\n",
            "10648   0.654382  0.106270  ...            0.896906             0.00\n",
            "3936    0.575697  0.178533  ...            0.495258             0.00\n",
            "\n",
            "[10 rows x 10 columns]\n"
          ]
        }
      ]
    },
    {
      "cell_type": "code",
      "metadata": {
        "id": "KmX4VE_Yd5KG"
      },
      "source": [
        "X = np.array(dataset[['longitude','latitude','housing_median_age','total_rooms','total_bedrooms','population','households','median_income','ocean_proximity']])\n",
        "Y = np.array(dataset['median_house_value']).reshape(-1,1)"
      ],
      "execution_count": null,
      "outputs": []
    },
    {
      "cell_type": "code",
      "metadata": {
        "colab": {
          "base_uri": "https://localhost:8080/"
        },
        "id": "CXXkMb0EeT4R",
        "outputId": "9e58aef9-b263-4534-9366-43b0f3ed866d"
      },
      "source": [
        "porcentagem = 0.75\n",
        "\n",
        "X_treino = X[:int(porcentagem*X.shape[0])]\n",
        "Y_treino = Y[:int(porcentagem*Y.shape[0])]\n",
        "\n",
        "X_teste = X[int(porcentagem*X.shape[0]):]\n",
        "Y_teste = Y[int(porcentagem*Y.shape[0]):]\n",
        "\n",
        "print(X_treino.shape)\n",
        "print(Y_treino.shape)\n",
        "\n",
        "print(X_teste.shape)\n",
        "print(Y_teste.shape)"
      ],
      "execution_count": null,
      "outputs": [
        {
          "output_type": "stream",
          "name": "stdout",
          "text": [
            "(15324, 9)\n",
            "(15324, 1)\n",
            "(5109, 9)\n",
            "(5109, 1)\n"
          ]
        }
      ]
    },
    {
      "cell_type": "markdown",
      "metadata": {
        "id": "dTQ-o8GYesUK"
      },
      "source": [
        "**Arvore de Decisão**"
      ]
    },
    {
      "cell_type": "code",
      "metadata": {
        "colab": {
          "base_uri": "https://localhost:8080/"
        },
        "id": "78pCkw40evau",
        "outputId": "d68baff6-ffb6-49ce-fa8f-d5dc9527c5be"
      },
      "source": [
        "regressor = DecisionTreeRegressor(max_depth=7).fit(X_treino, Y_treino)\n",
        "\n",
        "#test the model\n",
        "y_pred = regressor.predict(X_teste)\n",
        "score = regressor.score(X_teste,Y_teste)\n",
        "ev = metrics.explained_variance_score(Y_teste,y_pred)\n",
        "mae = metrics.mean_absolute_error(Y_teste,y_pred)\n",
        "mse = metrics.mean_squared_error(Y_teste, y_pred)\n",
        "\n",
        "print('Explained Variance: ')\n",
        "print(ev)\n",
        "\n",
        "print('Mean Absolute Error: ')\n",
        "print(mae)\n",
        "\n",
        "print('Mean Squared Error: ')\n",
        "print(mse)\n",
        "\n",
        "print('R2 Score:')\n",
        "print(score)"
      ],
      "execution_count": null,
      "outputs": [
        {
          "output_type": "stream",
          "name": "stdout",
          "text": [
            "Explained Variance: \n",
            "0.6825283794011004\n",
            "Mean Absolute Error: \n",
            "0.09116416030507052\n",
            "Mean Squared Error: \n",
            "0.01756369925759545\n",
            "Median Absolute Error:\n",
            "0.06256910642136987\n",
            "R2 Score:\n",
            "0.682526333210514\n"
          ]
        }
      ]
    },
    {
      "cell_type": "markdown",
      "metadata": {
        "id": "KDmhvFWLhL8r"
      },
      "source": [
        "**MLP**"
      ]
    },
    {
      "cell_type": "code",
      "metadata": {
        "colab": {
          "base_uri": "https://localhost:8080/"
        },
        "id": "CT6Pn0IBhPKT",
        "outputId": "a7c26fd9-972e-4664-e1eb-702e4f11228f"
      },
      "source": [
        "regressor = MLPRegressor().fit(X_treino, Y_treino.ravel())\n",
        "\n",
        "y_pred = regressor.predict(X_teste)\n",
        "score = regressor.score(X_teste,Y_teste)\n",
        "ev = metrics.explained_variance_score(Y_teste,y_pred)\n",
        "mae = metrics.mean_absolute_error(Y_teste,y_pred)\n",
        "mse = metrics.mean_squared_error(Y_teste, y_pred)\n",
        "print('Explained Variance: ')\n",
        "print(ev)\n",
        "\n",
        "print('Mean Absolute Error: ')\n",
        "print(mae)\n",
        "\n",
        "print('Mean Squared Error: ')\n",
        "print(mse)\n",
        "\n",
        "print('R2 Score:')\n",
        "print(score)"
      ],
      "execution_count": null,
      "outputs": [
        {
          "output_type": "stream",
          "name": "stdout",
          "text": [
            "Explained Variance: \n",
            "0.711338762896293\n",
            "Mean Absolute Error: \n",
            "0.08740147552097946\n",
            "Mean Squared Error: \n",
            "0.016692445071113938\n",
            "Median Absolute Error:\n",
            "0.05879547494333037\n",
            "R2 Score:\n",
            "0.709280356619804\n"
          ]
        }
      ]
    },
    {
      "cell_type": "markdown",
      "metadata": {
        "id": "svbiar8Qh1eD"
      },
      "source": [
        "**SVM**"
      ]
    },
    {
      "cell_type": "code",
      "metadata": {
        "colab": {
          "base_uri": "https://localhost:8080/"
        },
        "id": "EIASOUBdht7s",
        "outputId": "aabdf061-7443-4d79-91b7-370498fe2844"
      },
      "source": [
        "regressor = SVR().fit(X_treino, Y_treino.ravel())\n",
        "\n",
        "y_pred = regressor.predict(X_teste)\n",
        "score = regressor.score(X_teste,Y_teste)\n",
        "ev = metrics.explained_variance_score(Y_teste,y_pred)\n",
        "mae = metrics.mean_absolute_error(Y_teste,y_pred)\n",
        "mse = metrics.mean_squared_error(Y_teste, y_pred)\n",
        "\n",
        "print('Explained Variance: ')\n",
        "print(ev)\n",
        "\n",
        "print('Mean Absolute Error: ')\n",
        "print(mae)\n",
        "\n",
        "print('Mean Squared Error: ')\n",
        "print(mse)\n",
        "\n",
        "print('R2 Score:')\n",
        "print(score)"
      ],
      "execution_count": null,
      "outputs": [
        {
          "output_type": "stream",
          "name": "stdout",
          "text": [
            "Explained Variance: \n",
            "0.6360884502835007\n",
            "Mean Absolute Error: \n",
            "0.10011051544135602\n",
            "Mean Squared Error: \n",
            "0.02017684010844289\n",
            "Median Absolute Error:\n",
            "0.07490288567332759\n",
            "R2 Score:\n",
            "0.6352923538768511\n"
          ]
        }
      ]
    },
    {
      "cell_type": "markdown",
      "metadata": {
        "id": "n4FtEfFQiNYI"
      },
      "source": [
        "**Floresta Aleatória**"
      ]
    },
    {
      "cell_type": "code",
      "metadata": {
        "colab": {
          "base_uri": "https://localhost:8080/"
        },
        "id": "9pQjAkd8iIrJ",
        "outputId": "a1cc4919-1922-421b-a1bf-6c70d81b441f"
      },
      "source": [
        "regressor = RandomForestRegressor(random_state=0, n_estimators=100).fit(X_treino, Y_treino.ravel())\n",
        "\n",
        "y_pred = regressor.predict(X_teste)\n",
        "score = regressor.score(X_teste,Y_teste)\n",
        "ev = metrics.explained_variance_score(Y_teste,y_pred)\n",
        "mae = metrics.mean_absolute_error(Y_teste,y_pred)\n",
        "mse = metrics.mean_squared_error(Y_teste, y_pred)\n",
        "\n",
        "print('Explained Variance: ')\n",
        "print(ev)\n",
        "\n",
        "print('Mean Absolute Error: ')\n",
        "print(mae)\n",
        "\n",
        "print('Mean Squared Error: ')\n",
        "print(mse)\n",
        "\n",
        "print('R2 Score:')\n",
        "print(score)"
      ],
      "execution_count": null,
      "outputs": [
        {
          "output_type": "stream",
          "name": "stdout",
          "text": [
            "Explained Variance: \n",
            "0.7967584757184143\n",
            "Mean Absolute Error: \n",
            "0.0670186118254795\n",
            "Mean Squared Error: \n",
            "0.011244086211359671\n",
            "Median Absolute Error:\n",
            "0.04096892383948941\n",
            "R2 Score:\n",
            "0.7967568661440312\n"
          ]
        }
      ]
    },
    {
      "cell_type": "markdown",
      "metadata": {
        "id": "bxLpw2PGiq0v"
      },
      "source": [
        "**SGD**"
      ]
    },
    {
      "cell_type": "code",
      "metadata": {
        "colab": {
          "base_uri": "https://localhost:8080/"
        },
        "id": "d3Feq08Lipi4",
        "outputId": "696251b2-9921-4337-a8cf-682ade382036"
      },
      "source": [
        "regressor = SGDRegressor(max_iter=1000, loss='epsilon_insensitive').fit(X_treino, Y_treino.ravel())\n",
        "y_pred = regressor.predict(X_teste)\n",
        "score = regressor.score(X_teste,Y_teste)\n",
        "ev = metrics.explained_variance_score(Y_teste,y_pred)\n",
        "mae = metrics.mean_absolute_error(Y_teste,y_pred)\n",
        "mse = metrics.mean_squared_error(Y_teste, y_pred)\n",
        "\n",
        "print('Explained Variance: ')\n",
        "print(ev)\n",
        "\n",
        "print('Mean Absolute Error: ')\n",
        "print(mae)\n",
        "\n",
        "print('Mean Squared Error: ')\n",
        "print(mse)\n",
        "\n",
        "print('R2 Score:')\n",
        "print(score)"
      ],
      "execution_count": null,
      "outputs": [
        {
          "output_type": "stream",
          "name": "stdout",
          "text": [
            "Explained Variance: \n",
            "0.5592644197503023\n",
            "Mean Absolute Error: \n",
            "0.1114569205239704\n",
            "Mean Squared Error: \n",
            "0.024614319588672606\n",
            "Median Absolute Error:\n",
            "0.08390006590725335\n",
            "R2 Score:\n",
            "0.5550824356113468\n"
          ]
        }
      ]
    },
    {
      "cell_type": "markdown",
      "metadata": {
        "id": "JqDqZZtni_N1"
      },
      "source": [
        "**\"Desnormalização\" do atributo alvo**"
      ]
    },
    {
      "cell_type": "code",
      "metadata": {
        "colab": {
          "base_uri": "https://localhost:8080/"
        },
        "id": "ljsc1XyajFp3",
        "outputId": "1e86fc1b-9d8b-46b4-8539-0a2aa61ca053"
      },
      "source": [
        "Y_teste_nao_normalizado = normalizador_alvo.inverse_transform(Y_teste.reshape(-1, 1))\n",
        "y_pred_nao_normalizado = normalizador_alvo.inverse_transform(y_pred.reshape(-1, 1))\n",
        "print(\"Predição do atributo alvo:\")\n",
        "print(y_pred_nao_normalizado)\n",
        "print(\"Valor real do atributo alvo:\")\n",
        "print(Y_teste_nao_normalizado)"
      ],
      "execution_count": null,
      "outputs": [
        {
          "output_type": "stream",
          "name": "stdout",
          "text": [
            "Predição do atributo alvo:\n",
            "[[ 55536.13809524]\n",
            " [248673.01      ]\n",
            " [105375.35952381]\n",
            " ...\n",
            " [341205.03769231]\n",
            " [155975.        ]\n",
            " [229421.45      ]]\n",
            "Valor real do atributo alvo:\n",
            "[[ 52200.]\n",
            " [442900.]\n",
            " [135700.]\n",
            " ...\n",
            " [301300.]\n",
            " [163600.]\n",
            " [260100.]]\n"
          ]
        }
      ]
    }
  ]
}