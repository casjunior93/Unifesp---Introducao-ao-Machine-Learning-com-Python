{
  "nbformat": 4,
  "nbformat_minor": 0,
  "metadata": {
    "colab": {
      "name": "Aula 7",
      "provenance": [],
      "collapsed_sections": []
    },
    "kernelspec": {
      "name": "python3",
      "display_name": "Python 3"
    },
    "language_info": {
      "name": "python"
    }
  },
  "cells": [
    {
      "cell_type": "code",
      "metadata": {
        "id": "6Qzglw0AgIOj"
      },
      "source": [
        "from sklearn.tree import DecisionTreeClassifier\n",
        "from sklearn.svm import SVC\n",
        "from sklearn.neural_network import MLPClassifier\n",
        "from sklearn.naive_bayes import GaussianNB\n",
        "from sklearn.ensemble import RandomForestClassifier\n",
        "from sklearn.preprocessing import MinMaxScaler\n",
        "from sklearn.utils import shuffle\n",
        "import sklearn.metrics as metrics\n",
        "import pandas as pd\n",
        "import numpy as np"
      ],
      "execution_count": null,
      "outputs": []
    },
    {
      "cell_type": "markdown",
      "metadata": {
        "id": "sl4QpIUrh-lj"
      },
      "source": [
        "**Carregamento do dataset e preprocessamento**"
      ]
    },
    {
      "cell_type": "code",
      "metadata": {
        "colab": {
          "base_uri": "https://localhost:8080/"
        },
        "id": "rLWS9pPNh7NP",
        "outputId": "a19cf93b-c505-4e67-e824-5703f752f358"
      },
      "source": [
        "dataset = pd.read_csv(\"iris.csv\")\n",
        "print(dataset.head(10))"
      ],
      "execution_count": null,
      "outputs": [
        {
          "output_type": "stream",
          "text": [
            "   sepal.length  sepal.width  petal.length  petal.width variety\n",
            "0           5.1          3.5           1.4          0.2  Setosa\n",
            "1           4.9          3.0           1.4          0.2  Setosa\n",
            "2           4.7          3.2           1.3          0.2  Setosa\n",
            "3           4.6          3.1           1.5          0.2  Setosa\n",
            "4           5.0          3.6           1.4          0.2  Setosa\n",
            "5           5.4          3.9           1.7          0.4  Setosa\n",
            "6           4.6          3.4           1.4          0.3  Setosa\n",
            "7           5.0          3.4           1.5          0.2  Setosa\n",
            "8           4.4          2.9           1.4          0.2  Setosa\n",
            "9           4.9          3.1           1.5          0.1  Setosa\n"
          ],
          "name": "stdout"
        }
      ]
    },
    {
      "cell_type": "code",
      "metadata": {
        "id": "hQyCHcf9p-5U"
      },
      "source": [
        "dataset = shuffle(dataset)#embaralha os dados"
      ],
      "execution_count": null,
      "outputs": []
    },
    {
      "cell_type": "code",
      "metadata": {
        "colab": {
          "base_uri": "https://localhost:8080/"
        },
        "id": "HJDlz9t5id1U",
        "outputId": "26946b56-59b6-4d0b-d960-bdff89792498"
      },
      "source": [
        "dataset[\"variety\"] = dataset[\"variety\"].astype('category')\n",
        "dataset[\"variety\"] = dataset[\"variety\"].cat.codes\n",
        "print(dataset.head(10))"
      ],
      "execution_count": null,
      "outputs": [
        {
          "output_type": "stream",
          "text": [
            "     sepal.length  sepal.width  petal.length  petal.width  variety\n",
            "109           7.2          3.6           6.1          2.5        2\n",
            "55            5.7          2.8           4.5          1.3        1\n",
            "80            5.5          2.4           3.8          1.1        1\n",
            "127           6.1          3.0           4.9          1.8        2\n",
            "51            6.4          3.2           4.5          1.5        1\n",
            "96            5.7          2.9           4.2          1.3        1\n",
            "29            4.7          3.2           1.6          0.2        0\n",
            "117           7.7          3.8           6.7          2.2        2\n",
            "6             4.6          3.4           1.4          0.3        0\n",
            "35            5.0          3.2           1.2          0.2        0\n"
          ],
          "name": "stdout"
        }
      ]
    },
    {
      "cell_type": "code",
      "metadata": {
        "colab": {
          "base_uri": "https://localhost:8080/"
        },
        "id": "IDhRgZZLjnsX",
        "outputId": "188f9602-f1be-422e-fefe-c491fa55a38a"
      },
      "source": [
        "colunas = list(dataset.columns)\n",
        "colunas.pop(4)\n",
        "for col in colunas:\n",
        "  x = np.array(dataset[col]).reshape(-1,1)\n",
        "  x_normalized = MinMaxScaler().fit_transform(x)\n",
        "  dataset[col] = x_normalized\n",
        "\n",
        "print(dataset.head(10))"
      ],
      "execution_count": null,
      "outputs": [
        {
          "output_type": "stream",
          "text": [
            "     sepal.length  sepal.width  petal.length  petal.width  variety\n",
            "109      0.805556     0.666667      0.864407     1.000000        2\n",
            "55       0.388889     0.333333      0.593220     0.500000        1\n",
            "80       0.333333     0.166667      0.474576     0.416667        1\n",
            "127      0.500000     0.416667      0.661017     0.708333        2\n",
            "51       0.583333     0.500000      0.593220     0.583333        1\n",
            "96       0.388889     0.375000      0.542373     0.500000        1\n",
            "29       0.111111     0.500000      0.101695     0.041667        0\n",
            "117      0.944444     0.750000      0.966102     0.875000        2\n",
            "6        0.083333     0.583333      0.067797     0.083333        0\n",
            "35       0.194444     0.500000      0.033898     0.041667        0\n"
          ],
          "name": "stdout"
        }
      ]
    },
    {
      "cell_type": "code",
      "metadata": {
        "id": "b31vlTLtmuHj"
      },
      "source": [
        "X = np.array(dataset[['sepal.length','sepal.width','petal.length','petal.width']])\n",
        "Y = np.array(dataset['variety']).reshape(-1,1)\n"
      ],
      "execution_count": null,
      "outputs": []
    },
    {
      "cell_type": "markdown",
      "metadata": {
        "id": "K4H5B1Fpl0AP"
      },
      "source": [
        "**Divisão do conjunto em treino e teste - Holdout**"
      ]
    },
    {
      "cell_type": "code",
      "metadata": {
        "colab": {
          "base_uri": "https://localhost:8080/"
        },
        "id": "dUYg6YVylu4s",
        "outputId": "0a64efa9-4823-4758-b9c8-775117982cdf"
      },
      "source": [
        "porcentagem = 0.75\n",
        "\n",
        "X_treino = X[:int(porcentagem*X.shape[0])]\n",
        "Y_treino = Y[:int(porcentagem*Y.shape[0])]\n",
        "\n",
        "X_teste = X[int(porcentagem*X.shape[0]):]\n",
        "Y_teste = Y[int(porcentagem*Y.shape[0]):]\n",
        "\n",
        "print(X_treino.shape)\n",
        "print(Y_treino.shape)\n",
        "\n",
        "print(X_teste.shape)\n",
        "print(Y_teste.shape)"
      ],
      "execution_count": null,
      "outputs": [
        {
          "output_type": "stream",
          "text": [
            "(112, 4)\n",
            "(112, 1)\n",
            "(38, 4)\n",
            "(38, 1)\n"
          ],
          "name": "stdout"
        }
      ]
    },
    {
      "cell_type": "markdown",
      "metadata": {
        "id": "mZdUEVj2pCg0"
      },
      "source": [
        "**Árvore de decisão**"
      ]
    },
    {
      "cell_type": "code",
      "metadata": {
        "colab": {
          "base_uri": "https://localhost:8080/"
        },
        "id": "dYLk-6SbpB6t",
        "outputId": "efe8d79a-026c-4181-a492-9b736b8b550a"
      },
      "source": [
        "decisionTree = DecisionTreeClassifier()\n",
        "decisionTree = decisionTree.fit(X_treino,Y_treino)#treino\n",
        "Y_pred = decisionTree.predict(X_teste)#predicao do datase de teste\n",
        "\n",
        "print('Accuracy: ')\n",
        "print(decisionTree.score(X_teste,Y_teste))\n",
        "\n",
        "print('F1 - Score:')   \n",
        "print(metrics.f1_score(Y_teste,Y_pred,average='micro'))\n",
        "\n",
        "print('Precision:')\n",
        "print(metrics.precision_score(Y_teste,Y_pred,average='micro'))\n",
        "\n",
        "print('Recall:')\n",
        "print(metrics.recall_score(Y_teste,Y_pred,average='micro'))"
      ],
      "execution_count": null,
      "outputs": [
        {
          "output_type": "stream",
          "text": [
            "Accuracy: \n",
            "0.9210526315789473\n",
            "F1 - Score:\n",
            "0.9210526315789473\n",
            "Precision:\n",
            "0.9210526315789473\n",
            "Recall:\n",
            "0.9210526315789473\n"
          ],
          "name": "stdout"
        }
      ]
    },
    {
      "cell_type": "markdown",
      "metadata": {
        "id": "9aKghvdCqm60"
      },
      "source": [
        "**Naive Bayes**"
      ]
    },
    {
      "cell_type": "code",
      "metadata": {
        "colab": {
          "base_uri": "https://localhost:8080/"
        },
        "id": "6glOGovtqmWD",
        "outputId": "59d44b50-8959-4785-d224-c2e4f8549426"
      },
      "source": [
        "naiveBayes = GaussianNB()\n",
        "naiveBayes = naiveBayes.fit(X_treino,Y_treino)#treino\n",
        "Y_pred = naiveBayes.predict(X_teste)#predicao do datase de teste\n",
        "\n",
        "print('Accuracy: ')\n",
        "print(naiveBayes.score(X_teste,Y_teste))\n",
        "\n",
        "print('F1 - Score:')   \n",
        "print(metrics.f1_score(Y_teste,Y_pred,average='micro'))\n",
        "\n",
        "print('Precision:')\n",
        "print(metrics.precision_score(Y_teste,Y_pred,average='micro'))\n",
        "\n",
        "print('Recall:')\n",
        "print(metrics.recall_score(Y_teste,Y_pred,average='micro'))"
      ],
      "execution_count": null,
      "outputs": [
        {
          "output_type": "stream",
          "text": [
            "Accuracy: \n",
            "0.9210526315789473\n",
            "F1 - Score:\n",
            "0.9210526315789473\n",
            "Precision:\n",
            "0.9210526315789473\n",
            "Recall:\n",
            "0.9210526315789473\n"
          ],
          "name": "stdout"
        },
        {
          "output_type": "stream",
          "text": [
            "/usr/local/lib/python3.7/dist-packages/sklearn/naive_bayes.py:206: DataConversionWarning: A column-vector y was passed when a 1d array was expected. Please change the shape of y to (n_samples, ), for example using ravel().\n",
            "  y = column_or_1d(y, warn=True)\n"
          ],
          "name": "stderr"
        }
      ]
    },
    {
      "cell_type": "markdown",
      "metadata": {
        "id": "pA11AoeMrEO2"
      },
      "source": [
        "**SVM**"
      ]
    },
    {
      "cell_type": "code",
      "metadata": {
        "colab": {
          "base_uri": "https://localhost:8080/"
        },
        "id": "1sPExS8ErD1q",
        "outputId": "d4d44f83-c172-444a-b7f6-6135255bd8a0"
      },
      "source": [
        "svm = SVC()\n",
        "svm = svm.fit(X_treino,Y_treino)#treino\n",
        "Y_pred = svm.predict(X_teste)#predicao do datase de teste\n",
        "\n",
        "print('Accuracy: ')\n",
        "print(decisionTree.score(X_teste,Y_teste))\n",
        "\n",
        "print('F1 - Score:')   \n",
        "print(metrics.f1_score(Y_teste,Y_pred,average='micro'))\n",
        "\n",
        "print('Precision:')\n",
        "print(metrics.precision_score(Y_teste,Y_pred,average='micro'))\n",
        "\n",
        "print('Recall:')\n",
        "print(metrics.recall_score(Y_teste,Y_pred,average='micro'))"
      ],
      "execution_count": null,
      "outputs": [
        {
          "output_type": "stream",
          "text": [
            "Accuracy: \n",
            "0.9210526315789473\n",
            "F1 - Score:\n",
            "0.9210526315789473\n",
            "Precision:\n",
            "0.9210526315789473\n",
            "Recall:\n",
            "0.9210526315789473\n"
          ],
          "name": "stdout"
        },
        {
          "output_type": "stream",
          "text": [
            "/usr/local/lib/python3.7/dist-packages/sklearn/utils/validation.py:760: DataConversionWarning: A column-vector y was passed when a 1d array was expected. Please change the shape of y to (n_samples, ), for example using ravel().\n",
            "  y = column_or_1d(y, warn=True)\n"
          ],
          "name": "stderr"
        }
      ]
    },
    {
      "cell_type": "markdown",
      "metadata": {
        "id": "IvaK-2BMrSQ9"
      },
      "source": [
        "**MLP**"
      ]
    },
    {
      "cell_type": "code",
      "metadata": {
        "colab": {
          "base_uri": "https://localhost:8080/"
        },
        "id": "SDVqtbSgrR3E",
        "outputId": "d66e5192-b7b7-480b-fec9-00848125b8cd"
      },
      "source": [
        "mlp = MLPClassifier(solver='lbfgs')\n",
        "mlp = mlp.fit(X_treino,Y_treino)#treino\n",
        "Y_pred = mlp.predict(X_teste)#predicao do datase de teste\n",
        "\n",
        "print('Accuracy: ')\n",
        "print(decisionTree.score(X_teste,Y_teste))\n",
        "\n",
        "print('F1 - Score:')   \n",
        "print(metrics.f1_score(Y_teste,Y_pred,average='micro'))\n",
        "\n",
        "print('Precision:')\n",
        "print(metrics.precision_score(Y_teste,Y_pred,average='micro'))\n",
        "\n",
        "print('Recall:')\n",
        "print(metrics.recall_score(Y_teste,Y_pred,average='micro'))"
      ],
      "execution_count": null,
      "outputs": [
        {
          "output_type": "stream",
          "text": [
            "Accuracy: \n",
            "0.9210526315789473\n",
            "F1 - Score:\n",
            "1.0\n",
            "Precision:\n",
            "1.0\n",
            "Recall:\n",
            "1.0\n"
          ],
          "name": "stdout"
        },
        {
          "output_type": "stream",
          "text": [
            "/usr/local/lib/python3.7/dist-packages/sklearn/neural_network/_multilayer_perceptron.py:934: DataConversionWarning: A column-vector y was passed when a 1d array was expected. Please change the shape of y to (n_samples, ), for example using ravel().\n",
            "  y = column_or_1d(y, warn=True)\n"
          ],
          "name": "stderr"
        }
      ]
    },
    {
      "cell_type": "markdown",
      "metadata": {
        "id": "KaEdRGRErcJN"
      },
      "source": [
        "**Random Forest**"
      ]
    },
    {
      "cell_type": "code",
      "metadata": {
        "colab": {
          "base_uri": "https://localhost:8080/"
        },
        "id": "9uJE_UUarhfb",
        "outputId": "553f76c3-def2-4069-e55a-0569f40a1fb4"
      },
      "source": [
        "randomForest = RandomForestClassifier(n_estimators=100, max_depth=2)\n",
        "randomForest = randomForest.fit(X_treino,Y_treino)#treino\n",
        "Y_pred = randomForest.predict(X_teste)#predicao do datase de teste\n",
        "\n",
        "print('Accuracy: ')\n",
        "print(decisionTree.score(X_teste,Y_teste))\n",
        "\n",
        "print('F1 - Score:')   \n",
        "print(metrics.f1_score(Y_teste,Y_pred,average='micro'))\n",
        "\n",
        "print('Precision:')\n",
        "print(metrics.precision_score(Y_teste,Y_pred,average='micro'))\n",
        "\n",
        "print('Recall:')\n",
        "print(metrics.recall_score(Y_teste,Y_pred,average='micro'))"
      ],
      "execution_count": null,
      "outputs": [
        {
          "output_type": "stream",
          "text": [
            "Accuracy: \n",
            "0.9210526315789473\n",
            "F1 - Score:\n",
            "0.9210526315789473\n",
            "Precision:\n",
            "0.9210526315789473\n",
            "Recall:\n",
            "0.9210526315789473\n"
          ],
          "name": "stdout"
        },
        {
          "output_type": "stream",
          "text": [
            "/usr/local/lib/python3.7/dist-packages/ipykernel_launcher.py:2: DataConversionWarning: A column-vector y was passed when a 1d array was expected. Please change the shape of y to (n_samples,), for example using ravel().\n",
            "  \n"
          ],
          "name": "stderr"
        }
      ]
    },
    {
      "cell_type": "markdown",
      "metadata": {
        "id": "mpCR9nssr-vX"
      },
      "source": [
        "**K Fold Cross Validation - Um exemplo com Arvore de Decisão**"
      ]
    },
    {
      "cell_type": "code",
      "metadata": {
        "colab": {
          "base_uri": "https://localhost:8080/"
        },
        "id": "ggzNn28lsBtI",
        "outputId": "50ba12a2-f4e5-4e36-cd35-2c4536703076"
      },
      "source": [
        "from sklearn.model_selection import KFold\n",
        "\n",
        "kf = KFold(n_splits=10)\n",
        "\n",
        "a = 0\n",
        "f = 0\n",
        "p = 0\n",
        "r = 0\n",
        "i = 0\n",
        "\n",
        "for train_index, test_index in kf.split(X):\n",
        "    i+=1\n",
        "    X_train, X_test = X[train_index], X[test_index]\n",
        "    y_train, y_test = Y[train_index], Y[test_index]\n",
        "\n",
        "    clf = DecisionTreeClassifier().fit(X_train,y_train)\n",
        "    y_pred = clf.predict(X_test)\n",
        "    a += clf.score(X_test,y_test)\n",
        "    f += metrics.f1_score(y_test, y_pred, average='macro')\n",
        "    p += metrics.precision_score(y_test, y_pred, average='macro')\n",
        "    r += metrics.recall_score(y_test, y_pred, average='macro')\n",
        "\n",
        "average_accuracy = a/i\n",
        "average_f1_score = f/i\n",
        "average_precision = p/i\n",
        "average_recall = r/i\n",
        "\n",
        "print('Accuracy: ')\n",
        "print(average_accuracy)\n",
        "\n",
        "print('F1 - Score:')\n",
        "print(average_f1_score)\n",
        "\n",
        "print('Precision:')\n",
        "print(average_precision)\n",
        "\n",
        "print('Recall:')\n",
        "print(average_recall)"
      ],
      "execution_count": null,
      "outputs": [
        {
          "output_type": "stream",
          "text": [
            "Accuracy: \n",
            "0.9266666666666667\n",
            "F1 - Score:\n",
            "0.9230295630295628\n",
            "Precision:\n",
            "0.9269047619047619\n",
            "Recall:\n",
            "0.9276984126984127\n"
          ],
          "name": "stdout"
        }
      ]
    }
  ]
}