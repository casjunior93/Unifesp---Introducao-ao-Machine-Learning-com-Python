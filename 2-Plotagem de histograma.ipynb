{
 "cells": [
  {
   "cell_type": "markdown",
   "id": "8cff66c0",
   "metadata": {},
   "source": [
    "# Plotagem de histograma\n",
    "Uma forma de visualizar distribuição dos dados dentro de um array"
   ]
  },
  {
   "cell_type": "markdown",
   "id": "d8ab60ce",
   "metadata": {},
   "source": [
    "Essa operação pode ser realizada utilizando a biblioteca matplotlib"
   ]
  },
  {
   "cell_type": "code",
   "execution_count": 1,
   "id": "0e055529",
   "metadata": {},
   "outputs": [],
   "source": [
    "import numpy as np\n",
    "import matplotlib.pyplot as plt"
   ]
  },
  {
   "cell_type": "code",
   "execution_count": 2,
   "id": "d10029df",
   "metadata": {},
   "outputs": [
    {
     "data": {
      "image/png": "[encoded data removed]",
      "text/plain": [
       "<Figure size 432x288 with 1 Axes>"
      ]
     },
     "metadata": {
      "needs_background": "light"
     },
     "output_type": "display_data"
    }
   ],
   "source": [
    "v = np.array([1,1,4,4,3,3,3,1,2,2,5,5,1,1,7,9,9])\n",
    "plt.hist(v);"
   ]
  },
  {
   "cell_type": "code",
   "execution_count": null,
   "id": "490d16ec",
   "metadata": {},
   "outputs": [],
   "source": []
  }
 ],
 "metadata": {
  "kernelspec": {
   "display_name": "Python 3",
   "language": "python",
   "name": "python3"
  },
  "language_info": {
   "codemirror_mode": {
    "name": "ipython",
    "version": 3
   },
   "file_extension": ".py",
   "mimetype": "text/x-python",
   "name": "python",
   "nbconvert_exporter": "python",
   "pygments_lexer": "ipython3",
   "version": "3.8.8"
  }
 },
 "nbformat": 4,
 "nbformat_minor": 5
}
