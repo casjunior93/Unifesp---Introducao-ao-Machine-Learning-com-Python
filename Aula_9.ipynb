{
  "nbformat": 4,
  "nbformat_minor": 0,
  "metadata": {
    "accelerator": "GPU",
    "colab": {
      "name": "Aula 9",
      "provenance": [],
      "collapsed_sections": []
    },
    "kernelspec": {
      "display_name": "Python 3",
      "name": "python3"
    },
    "language_info": {
      "name": "python"
    }
  },
  "cells": [
    {
      "cell_type": "code",
      "metadata": {
        "id": "xH_x2RChx4OO"
      },
      "source": [
        "!mkdir -p images"
      ],
      "execution_count": null,
      "outputs": []
    },
    {
      "cell_type": "code",
      "metadata": {
        "id": "b1iO2d6XyVCA"
      },
      "source": [
        "! cp -r /content/drive/MyDrive/CatsVsDogs.zip /content/images"
      ],
      "execution_count": null,
      "outputs": []
    },
    {
      "cell_type": "code",
      "metadata": {
        "colab": {
          "base_uri": "https://localhost:8080/"
        },
        "id": "UaWPRq9w5Un9",
        "outputId": "3eb3713f-975c-4bdd-a94f-37e2ebab8893"
      },
      "source": [
        "from google.colab import drive\n",
        "drive.mount('/content/drive')"
      ],
      "execution_count": null,
      "outputs": [
        {
          "output_type": "stream",
          "name": "stdout",
          "text": [
            "Drive already mounted at /content/drive; to attempt to forcibly remount, call drive.mount(\"/content/drive\", force_remount=True).\n"
          ]
        }
      ]
    },
    {
      "cell_type": "code",
      "metadata": {
        "id": "GO12I8YDy5vf"
      },
      "source": [
        "!unzip -q /content/images/CatsVsDogs.zip -d /content/images"
      ],
      "execution_count": null,
      "outputs": []
    },
    {
      "cell_type": "code",
      "metadata": {
        "id": "8ZGdqyxJ0ByF"
      },
      "source": [
        "!mkdir images/train\n",
        "!mkdir images/test\n",
        "!mkdir images/train/Cat\n",
        "!mkdir images/train/Dog\n",
        "!mkdir images/test/Cat\n",
        "!mkdir images/test/Dog"
      ],
      "execution_count": null,
      "outputs": []
    },
    {
      "cell_type": "code",
      "metadata": {
        "id": "ag_sAwVH0pb3"
      },
      "source": [
        "import os\n",
        "import numpy as np\n",
        "from sklearn.model_selection import train_test_split\n",
        "import shutil\n",
        "\n",
        "images = []\n",
        "classes = []\n",
        "\n",
        "#pega o nome de todas as images da classe Cat e insere na lista atribuindo o rotulo 0\n",
        "for filename in os.listdir('/content/images/Cat'):\n",
        "    images.append(str(filename))\n",
        "    classes.append('Cat')\n",
        "\n",
        "#pega o nome de todas as images da classe Dog e insere na lista atribuindo o rotulo 1\n",
        "for filename in os.listdir('/content/images/Dog'):\n",
        "    images.append(str(filename))\n",
        "    classes.append('Dog')\n",
        "\n",
        "X_train, X_test, y_train, y_test = train_test_split(np.array(images), np.array(classes), test_size=0.25, random_state=42, shuffle=True)\n",
        "\n",
        "#percorre a lista de imagens de treino e copia para o diretorio de treino conforme a classe\n",
        "for i in range(X_train.shape[0]):\n",
        "  shutil.copyfile('/content/images/'+y_train[i]+'/'+X_train[i],'/content/images/train/'+y_train[i]+'/'+X_train[i])\n",
        "\n",
        "#percorre a lista de imagens de teste e copia para o diretorio de teste conforme a classe\n",
        "for i in range(X_test.shape[0]):\n",
        "  shutil.copyfile('/content/images/'+y_test[i]+'/'+X_test[i],'/content/images/test/'+y_test[i]+'/'+X_test[i])"
      ],
      "execution_count": null,
      "outputs": []
    },
    {
      "cell_type": "markdown",
      "metadata": {
        "id": "rCkvpPHE7Wu-"
      },
      "source": [
        "**Implementação do Modelo VGG16 pré-treinado**"
      ]
    },
    {
      "cell_type": "code",
      "metadata": {
        "colab": {
          "base_uri": "https://localhost:8080/"
        },
        "id": "RIFu0L0F7e3E",
        "outputId": "be323298-ea82-4846-bcf1-92651acd1e2f"
      },
      "source": [
        "from tensorflow.keras.optimizers import Adam\n",
        "from tensorflow.keras.applications import VGG16\n",
        "from tensorflow.keras.applications.vgg16 import preprocess_input\n",
        "from tensorflow.keras.models import Sequential\n",
        "from tensorflow.keras.layers import Dense\n",
        "from tensorflow.keras.preprocessing.image import ImageDataGenerator\n",
        "import matplotlib.pyplot as plt\n",
        "\n",
        "model = Sequential()\n",
        "model.add(VGG16(include_top = False, pooling = 'max', weights = 'imagenet'))\n",
        "model.add(Dense(2,activation='softmax'))\n",
        "\n",
        "#faz com que as camadas da rede VGG16 sejam congeladas(não serão treinadas)\n",
        "for layer in model.layers[0].layers:\n",
        "  layer.treinable = False\n",
        "\n",
        "model.summary()\n",
        "model.compile(optimizer = Adam(learning_rate=0.0001), loss='binary_crossentropy', metrics= ['accuracy'])"
      ],
      "execution_count": null,
      "outputs": [
        {
          "output_type": "stream",
          "name": "stdout",
          "text": [
            "Downloading data from https://storage.googleapis.com/tensorflow/keras-applications/vgg16/vgg16_weights_tf_dim_ordering_tf_kernels_notop.h5\n",
            "58892288/58889256 [==============================] - 3s 0us/step\n",
            "58900480/58889256 [==============================] - 3s 0us/step\n",
            "Model: \"sequential\"\n",
            "_________________________________________________________________\n",
            "Layer (type)                 Output Shape              Param #   \n",
            "=================================================================\n",
            "vgg16 (Functional)           (None, 512)               14714688  \n",
            "_________________________________________________________________\n",
            "dense (Dense)                (None, 2)                 1026      \n",
            "=================================================================\n",
            "Total params: 14,715,714\n",
            "Trainable params: 14,715,714\n",
            "Non-trainable params: 0\n",
            "_________________________________________________________________\n"
          ]
        }
      ]
    },
    {
      "cell_type": "code",
      "metadata": {
        "colab": {
          "base_uri": "https://localhost:8080/",
          "height": 1000
        },
        "id": "JjQ41uoF7rbY",
        "outputId": "a5053556-2da8-4776-8332-4f056429fde5"
      },
      "source": [
        "IMAGE_SIZE = 224\n",
        "EPOCHS = 50\n",
        "\n",
        "#Cria uma ImageDataGenerator que será utilizado para fazer a leitura das imagens de treino\n",
        "train_data_generator =  ImageDataGenerator(validation_split = 0.15, preprocessing_function = preprocess_input,\n",
        "                                          rotation_range=15,\n",
        "                                          zoom_range=0.2,\n",
        "                                          horizontal_flip=True,\n",
        "                                          fill_mode='nearest')\n",
        "\n",
        "#Faz a leitura das imagens de treino\n",
        "train_data = train_data_generator.flow_from_directory('/content/images/train', target_size = (IMAGE_SIZE,IMAGE_SIZE), subset='training')\n",
        "\n",
        "print(train_data.class_indices)\n",
        "\n",
        "#Faz a leitura das imagens de validação - subconjunto do conjunto de treino\n",
        "validation_data = train_data_generator.flow_from_directory('/content/images/train', target_size = (IMAGE_SIZE,IMAGE_SIZE), subset='validation')\n",
        "\n",
        "#Cria uma ImageDataGenerator que será utilizado para fazer a leitura das imagens de teste\n",
        "test_data_generator = ImageDataGenerator(preprocessing_function = preprocess_input)\n",
        "#Faz a leitura das imagens de teset\n",
        "test_data = test_data_generator.flow_from_directory('/content/images/test', target_size = (IMAGE_SIZE,IMAGE_SIZE))\n",
        "\n",
        "fit_history = model.fit(\n",
        "  train_data,\n",
        "  epochs = EPOCHS,\n",
        "  validation_data = validation_data \n",
        ")\n",
        "\n",
        "evaluated =  model.evaluate(test_data)\n",
        "print(\"Acurácia: %f\" %(evaluated[1]))\n",
        "print(\"Loss: %f\" %(evaluated[0]))\n",
        "\n",
        "plt.figure(1, figsize = (15,10)) \n",
        "      \n",
        "plt.subplot(221)  \n",
        "plt.plot(fit_history.history['accuracy'])  \n",
        "plt.plot(fit_history.history['val_accuracy'])  \n",
        "plt.title('model accuracy')  \n",
        "plt.ylabel('accuracy')  \n",
        "plt.xlabel('epoch')  \n",
        "plt.legend(['train', 'valid']) \n",
        "    \n",
        "plt.subplot(222)  \n",
        "plt.plot(fit_history.history['loss'])  \n",
        "plt.plot(fit_history.history['val_loss'])  \n",
        "plt.title('model loss')  \n",
        "plt.ylabel('loss')  \n",
        "plt.xlabel('epoch')  \n",
        "plt.legend(['train', 'valid']) \n",
        "\n",
        "plt.show()\n"
      ],
      "execution_count": null,
      "outputs": [
        {
          "output_type": "stream",
          "name": "stdout",
          "text": [
            "Found 639 images belonging to 2 classes.\n",
            "{'Cat': 0, 'Dog': 1}\n",
            "Found 112 images belonging to 2 classes.\n",
            "Found 251 images belonging to 2 classes.\n",
            "Epoch 1/50\n",
            "20/20 [==============================] - 78s 2s/step - loss: 4.1959 - accuracy: 0.5775 - val_loss: 0.7526 - val_accuracy: 0.6161\n",
            "Epoch 2/50\n",
            "20/20 [==============================] - 17s 851ms/step - loss: 0.6835 - accuracy: 0.5931 - val_loss: 0.5993 - val_accuracy: 0.6696\n",
            "Epoch 3/50\n",
            "20/20 [==============================] - 17s 847ms/step - loss: 0.6110 - accuracy: 0.6808 - val_loss: 0.5709 - val_accuracy: 0.6964\n",
            "Epoch 4/50\n",
            "20/20 [==============================] - 17s 849ms/step - loss: 0.6172 - accuracy: 0.6745 - val_loss: 0.5815 - val_accuracy: 0.6964\n",
            "Epoch 5/50\n",
            "20/20 [==============================] - 17s 847ms/step - loss: 0.6110 - accuracy: 0.6729 - val_loss: 0.5844 - val_accuracy: 0.6161\n",
            "Epoch 6/50\n",
            "20/20 [==============================] - 17s 850ms/step - loss: 0.6127 - accuracy: 0.6854 - val_loss: 0.5699 - val_accuracy: 0.7143\n",
            "Epoch 7/50\n",
            "20/20 [==============================] - 17s 849ms/step - loss: 0.5467 - accuracy: 0.7277 - val_loss: 0.4842 - val_accuracy: 0.7679\n",
            "Epoch 8/50\n",
            "20/20 [==============================] - 17s 849ms/step - loss: 0.5040 - accuracy: 0.7496 - val_loss: 0.4774 - val_accuracy: 0.7500\n",
            "Epoch 9/50\n",
            "20/20 [==============================] - 17s 853ms/step - loss: 0.4793 - accuracy: 0.7621 - val_loss: 0.4359 - val_accuracy: 0.8214\n",
            "Epoch 10/50\n",
            "20/20 [==============================] - 17s 849ms/step - loss: 0.5040 - accuracy: 0.7606 - val_loss: 0.4388 - val_accuracy: 0.8125\n",
            "Epoch 11/50\n",
            "20/20 [==============================] - 17s 851ms/step - loss: 0.4321 - accuracy: 0.8044 - val_loss: 0.4878 - val_accuracy: 0.7411\n",
            "Epoch 12/50\n",
            "20/20 [==============================] - 17s 852ms/step - loss: 0.4338 - accuracy: 0.8138 - val_loss: 0.4110 - val_accuracy: 0.7768\n",
            "Epoch 13/50\n",
            "20/20 [==============================] - 17s 847ms/step - loss: 0.3825 - accuracy: 0.8404 - val_loss: 0.3352 - val_accuracy: 0.8482\n",
            "Epoch 14/50\n",
            "20/20 [==============================] - 17s 848ms/step - loss: 0.3412 - accuracy: 0.8576 - val_loss: 0.3149 - val_accuracy: 0.8482\n",
            "Epoch 15/50\n",
            "20/20 [==============================] - 17s 848ms/step - loss: 0.3285 - accuracy: 0.8670 - val_loss: 0.4874 - val_accuracy: 0.7500\n",
            "Epoch 16/50\n",
            "20/20 [==============================] - 17s 852ms/step - loss: 0.3776 - accuracy: 0.8216 - val_loss: 0.3242 - val_accuracy: 0.8750\n",
            "Epoch 17/50\n",
            "20/20 [==============================] - 17s 850ms/step - loss: 0.3270 - accuracy: 0.8670 - val_loss: 0.2680 - val_accuracy: 0.8839\n",
            "Epoch 18/50\n",
            "20/20 [==============================] - 17s 850ms/step - loss: 0.3010 - accuracy: 0.8795 - val_loss: 0.3023 - val_accuracy: 0.8661\n",
            "Epoch 19/50\n",
            "20/20 [==============================] - 17s 855ms/step - loss: 0.2266 - accuracy: 0.9139 - val_loss: 0.2531 - val_accuracy: 0.8929\n",
            "Epoch 20/50\n",
            "20/20 [==============================] - 17s 850ms/step - loss: 0.1953 - accuracy: 0.9280 - val_loss: 0.2996 - val_accuracy: 0.8571\n",
            "Epoch 21/50\n",
            "20/20 [==============================] - 17s 853ms/step - loss: 0.1766 - accuracy: 0.9390 - val_loss: 0.1736 - val_accuracy: 0.9286\n",
            "Epoch 22/50\n",
            "20/20 [==============================] - 17s 852ms/step - loss: 0.1474 - accuracy: 0.9484 - val_loss: 0.2695 - val_accuracy: 0.9107\n",
            "Epoch 23/50\n",
            "20/20 [==============================] - 17s 854ms/step - loss: 0.1645 - accuracy: 0.9343 - val_loss: 0.2170 - val_accuracy: 0.8839\n",
            "Epoch 24/50\n",
            "20/20 [==============================] - 17s 853ms/step - loss: 0.1551 - accuracy: 0.9390 - val_loss: 0.2293 - val_accuracy: 0.9107\n",
            "Epoch 25/50\n",
            "20/20 [==============================] - 17s 855ms/step - loss: 0.0958 - accuracy: 0.9624 - val_loss: 0.2228 - val_accuracy: 0.9018\n",
            "Epoch 26/50\n",
            "20/20 [==============================] - 17s 855ms/step - loss: 0.1503 - accuracy: 0.9405 - val_loss: 0.2265 - val_accuracy: 0.9107\n",
            "Epoch 27/50\n",
            "20/20 [==============================] - 17s 853ms/step - loss: 0.1534 - accuracy: 0.9437 - val_loss: 0.2717 - val_accuracy: 0.8929\n",
            "Epoch 28/50\n",
            "20/20 [==============================] - 17s 855ms/step - loss: 0.0943 - accuracy: 0.9671 - val_loss: 0.2343 - val_accuracy: 0.9018\n",
            "Epoch 29/50\n",
            "20/20 [==============================] - 17s 856ms/step - loss: 0.0755 - accuracy: 0.9734 - val_loss: 0.2149 - val_accuracy: 0.9286\n",
            "Epoch 30/50\n",
            "20/20 [==============================] - 17s 856ms/step - loss: 0.0782 - accuracy: 0.9718 - val_loss: 0.2887 - val_accuracy: 0.8839\n",
            "Epoch 31/50\n",
            "20/20 [==============================] - 17s 856ms/step - loss: 0.0772 - accuracy: 0.9656 - val_loss: 0.2754 - val_accuracy: 0.8929\n",
            "Epoch 32/50\n",
            "20/20 [==============================] - 17s 857ms/step - loss: 0.0793 - accuracy: 0.9750 - val_loss: 0.3481 - val_accuracy: 0.8750\n",
            "Epoch 33/50\n",
            "20/20 [==============================] - 17s 853ms/step - loss: 0.0766 - accuracy: 0.9671 - val_loss: 0.2372 - val_accuracy: 0.9286\n",
            "Epoch 34/50\n",
            "20/20 [==============================] - 17s 855ms/step - loss: 0.0702 - accuracy: 0.9765 - val_loss: 0.3785 - val_accuracy: 0.8839\n",
            "Epoch 35/50\n",
            "20/20 [==============================] - 17s 853ms/step - loss: 0.0702 - accuracy: 0.9750 - val_loss: 0.1975 - val_accuracy: 0.9464\n",
            "Epoch 36/50\n",
            "20/20 [==============================] - 17s 854ms/step - loss: 0.0151 - accuracy: 1.0000 - val_loss: 0.3126 - val_accuracy: 0.9196\n",
            "Epoch 37/50\n",
            "20/20 [==============================] - 17s 854ms/step - loss: 0.0324 - accuracy: 0.9875 - val_loss: 0.4848 - val_accuracy: 0.8661\n",
            "Epoch 38/50\n",
            "20/20 [==============================] - 17s 856ms/step - loss: 0.0192 - accuracy: 0.9953 - val_loss: 0.2277 - val_accuracy: 0.9375\n",
            "Epoch 39/50\n",
            "20/20 [==============================] - 17s 854ms/step - loss: 0.0170 - accuracy: 0.9969 - val_loss: 0.2505 - val_accuracy: 0.9196\n",
            "Epoch 40/50\n",
            "20/20 [==============================] - 17s 856ms/step - loss: 0.0102 - accuracy: 0.9969 - val_loss: 0.1987 - val_accuracy: 0.9375\n",
            "Epoch 41/50\n",
            "20/20 [==============================] - 17s 856ms/step - loss: 0.0504 - accuracy: 0.9812 - val_loss: 0.3623 - val_accuracy: 0.8839\n",
            "Epoch 42/50\n",
            "20/20 [==============================] - 17s 852ms/step - loss: 0.0651 - accuracy: 0.9781 - val_loss: 0.1820 - val_accuracy: 0.9464\n",
            "Epoch 43/50\n",
            "20/20 [==============================] - 17s 854ms/step - loss: 0.0372 - accuracy: 0.9875 - val_loss: 0.3568 - val_accuracy: 0.9018\n",
            "Epoch 44/50\n",
            "20/20 [==============================] - 17s 856ms/step - loss: 0.0167 - accuracy: 0.9969 - val_loss: 0.1288 - val_accuracy: 0.9375\n",
            "Epoch 45/50\n",
            "20/20 [==============================] - 17s 855ms/step - loss: 0.0087 - accuracy: 0.9969 - val_loss: 0.4175 - val_accuracy: 0.8571\n",
            "Epoch 46/50\n",
            "20/20 [==============================] - 17s 855ms/step - loss: 0.0152 - accuracy: 0.9969 - val_loss: 0.1664 - val_accuracy: 0.9375\n",
            "Epoch 47/50\n",
            "20/20 [==============================] - 17s 856ms/step - loss: 0.0122 - accuracy: 0.9969 - val_loss: 0.2259 - val_accuracy: 0.9196\n",
            "Epoch 48/50\n",
            "20/20 [==============================] - 17s 854ms/step - loss: 0.0303 - accuracy: 0.9906 - val_loss: 0.3445 - val_accuracy: 0.8839\n",
            "Epoch 49/50\n",
            "20/20 [==============================] - 17s 855ms/step - loss: 0.1032 - accuracy: 0.9734 - val_loss: 0.5272 - val_accuracy: 0.8571\n",
            "Epoch 50/50\n",
            "20/20 [==============================] - 17s 857ms/step - loss: 0.0635 - accuracy: 0.9781 - val_loss: 0.2088 - val_accuracy: 0.9107\n",
            "8/8 [==============================] - 10s 1s/step - loss: 0.4878 - accuracy: 0.8805\n",
            "Acurácia: 0.880478\n",
            "Loss: 0.487835\n"
          ]
        },
        {
          "output_type": "display_data",
          "data": {
            "image/png": "[encoded data removed]",
            "text/plain": [
              "<Figure size 1080x720 with 2 Axes>"
            ]
          },
          "metadata": {
            "needs_background": "light"
          }
        }
      ]
    }
  ]
}