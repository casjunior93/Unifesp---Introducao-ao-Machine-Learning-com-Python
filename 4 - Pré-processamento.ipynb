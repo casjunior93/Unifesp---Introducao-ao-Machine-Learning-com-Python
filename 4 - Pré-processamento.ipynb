{
 "cells": [
  {
   "cell_type": "markdown",
   "id": "9c921b42",
   "metadata": {},
   "source": [
    "# Motivação"
   ]
  },
  {
   "cell_type": "markdown",
   "id": "1125e84a",
   "metadata": {},
   "source": [
    "A etapa de pré-processamento é importante pois a qualidade do resultado obtido por meio dos algoritmos de ML dependerá da qualidade dos dados de entrada.\n",
    "\n",
    "Na grande maioria dos casos, os dados coletados contém certos problemas que podem prejudicar o resultado almejado.\n",
    "* Diferentes escalas entre atributos numéricos\n",
    "* Exemplos atributos faltantes\n",
    "* Atributos textuais"
   ]
  },
  {
   "cell_type": "markdown",
   "id": "a772054e",
   "metadata": {},
   "source": [
    "# Tratando dados faltantes"
   ]
  },
  {
   "cell_type": "markdown",
   "id": "8218d25a",
   "metadata": {},
   "source": [
    "Alguns datasets podem conter linhas de dados com atributos sem valor.\n",
    "\n",
    "Existem algumas técnicas que podem ser utilizadas para contornar esses defeitos.\n",
    "* Excluir colunas do atributo - pode ocasionar grande perda de informações\n",
    "* Excluir linhas com atributos faltantes - perda de exemplos\n",
    "* Preencher valores faltantes com a média"
   ]
  },
  {
   "cell_type": "markdown",
   "id": "370ee5d7",
   "metadata": {},
   "source": [
    "## Excluindo colunas com dados faltantes"
   ]
  },
  {
   "cell_type": "markdown",
   "id": "e5763f22",
   "metadata": {},
   "source": [
    "Recomenda-se a utilização dessa opção quando o atributo exercer pouca influência sobre o conjunto de dados.\n",
    "\n",
    "Para a execução desta opção basta se utilizar a função df.dropna(axis=1,inplace=True) da biblioteca Pandas."
   ]
  },
  {
   "cell_type": "markdown",
   "id": "7e99a004",
   "metadata": {},
   "source": [
    "### Dica:\n",
    "Fazer alterações em cópias do df, para evitar ter que começar tudo de novo quando ocorrer um erro."
   ]
  },
  {
   "cell_type": "markdown",
   "id": "a20747f6",
   "metadata": {},
   "source": [
    "## Excluindo linhas com dados faltantes\n",
    "\n",
    "Recomenda-se a utilização dessa opção quando existem poucas linhas com dados faltantes no dataset.\n",
    "\n",
    "Esta operação pode ser realizada utilizando-se a função df.dropna(axis=0, inplace=True)"
   ]
  },
  {
   "cell_type": "markdown",
   "id": "086eadad",
   "metadata": {},
   "source": [
    "## Preenchendo com a média"
   ]
  },
  {
   "cell_type": "markdown",
   "id": "7f6afc8a",
   "metadata": {},
   "source": [
    "Os valores faltantes podem ser preenchidos com o valor médio do atributo no dataset."
   ]
  },
  {
   "cell_type": "markdown",
   "id": "cb620709",
   "metadata": {},
   "source": [
    "dataset = pd.read_csv('arquivo.csv')\n",
    "\n",
    "-> Calcula a média da coluna especifica\n",
    "\n",
    "dataset_media = dataset['coluna_especifica'].mean()\n",
    "\n",
    "-> Atribui a média da coluna para todos o NaN\n",
    "\n",
    "dataset['coluna_especifica'].fillna(dataset_media, inplace=True)"
   ]
  },
  {
   "cell_type": "markdown",
   "id": "5d911767",
   "metadata": {},
   "source": [
    "# Variáveis categoricas"
   ]
  },
  {
   "cell_type": "markdown",
   "id": "51dc9008",
   "metadata": {},
   "source": [
    "Determinados atributos são do tipo nominal sendo necessário convertê-los para valores numéricos.\n",
    "\n",
    "Isso pode ser feito alterando o tipo da coluna para category e utilizar o código das categorias."
   ]
  },
  {
   "cell_type": "markdown",
   "id": "f34b1b3f",
   "metadata": {},
   "source": [
    "dataset = pd.read_csv('arquivo.csv')\n",
    "\n",
    "dataset['animal'] = dataset['animal'].astype('category')\n",
    "\n",
    "dataset['animal_numerico'] = dataset['animal'].cat.codes"
   ]
  },
  {
   "cell_type": "markdown",
   "id": "c45efedf",
   "metadata": {},
   "source": [
    "# Normalização\n",
    "\n",
    "Alguns datasets possuem atributos numéricos que possuem diferentes escalas. Ex.: idade, salário, altura, etc.\n",
    "\n",
    "Essa diferença de escala dificulta o treinamento dos modelos de ML, de modo que um atributo pode influenciar mais do que outro.\n",
    "\n",
    "Para solucionar esse problema aplica-se a normalização.\n",
    "\n",
    "A biblioteca Scikit Learn fornece dierentes funções que podem ser aplicadas sobre os dados de acordo com suas características:\n",
    "\n",
    "MinMaxscaler, StandardScaler, RobustScaler"
   ]
  },
  {
   "cell_type": "markdown",
   "id": "9b97b35b",
   "metadata": {},
   "source": [
    "### MinMaxScaler"
   ]
  },
  {
   "cell_type": "markdown",
   "id": "d85d7f14",
   "metadata": {},
   "source": [
    "Fórmula = (valor - Min) / (Max-Min)\n",
    "\n",
    "Reescala os valores para um intervalo entre 0 e 1 ou -1 e 1 caso existam valores negativos dentro do conjunto.\n",
    "\n",
    "É aplicada somente dentro da coluna.\n",
    "\n",
    "Recomendada quando os dados não possuem distribuição normal e baixo desvio padrão.\n",
    "\n",
    "Sintaxe: coluna_normalizada = MinMaxscaler().fit_transform(coluna)"
   ]
  },
  {
   "cell_type": "markdown",
   "id": "938c3473",
   "metadata": {},
   "source": [
    "### StandardScaler\n",
    "\n",
    "Fórmula: (valor - media) / desvio padrão\n",
    "\n",
    "Mais recomendado para dados com distribuição normal.\n",
    "\n",
    "O resultado é um conjunto de dados com desvio padrão e variância iguais à 1.\n",
    "\n",
    "Sintaxe: coluna_normalizada = StandardScaler().fit_transform(coluna)"
   ]
  },
  {
   "cell_type": "markdown",
   "id": "7e652a6b",
   "metadata": {},
   "source": [
    "### RobustScaler"
   ]
  },
  {
   "cell_type": "markdown",
   "id": "f149178b",
   "metadata": {},
   "source": [
    "Fórmula: (valor - media) / (Amplitude Interquartil)\n",
    "    \n",
    "Recomendada para dados que possuem valores outliers.\n",
    "\n",
    "Mantém os outliers porém devido a mudança de escala sua inflência negativa é atenuada.\n",
    "\n",
    "Sintaxe: coluna_normalizada = RobustScaler().fit_transform(coluna)"
   ]
  },
  {
   "cell_type": "markdown",
   "id": "4d67adfd",
   "metadata": {},
   "source": [
    "### Sintaxes: \n",
    "coluna = np.array(dataset['coluna']).reshape(-1,1)\n",
    "\n",
    "from sklearn.preprocessing import RobustScaler\n",
    "\n",
    "coluna_normalizada = RobustScaler().fit_transform(coluna)"
   ]
  },
  {
   "cell_type": "code",
   "execution_count": null,
   "id": "739cbfeb",
   "metadata": {},
   "outputs": [],
   "source": []
  }
 ],
 "metadata": {
  "kernelspec": {
   "display_name": "Python 3",
   "language": "python",
   "name": "python3"
  },
  "language_info": {
   "codemirror_mode": {
    "name": "ipython",
    "version": 3
   },
   "file_extension": ".py",
   "mimetype": "text/x-python",
   "name": "python",
   "nbconvert_exporter": "python",
   "pygments_lexer": "ipython3",
   "version": "3.8.8"
  }
 },
 "nbformat": 4,
 "nbformat_minor": 5
}
