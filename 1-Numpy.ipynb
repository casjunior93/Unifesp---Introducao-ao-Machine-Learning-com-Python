{
 "cells": [
  {
   "cell_type": "markdown",
   "id": "d10ebe27-963a-4a91-978a-5e51acb40337",
   "metadata": {},
   "source": [
    "# Biblioteca Numpy"
   ]
  },
  {
   "cell_type": "markdown",
   "id": "6e3bf547-2d64-48d9-a6f4-3019ce4acd44",
   "metadata": {},
   "source": [
    "### Tipo básico: NDARRAY"
   ]
  },
  {
   "cell_type": "markdown",
   "id": "01d13e21-c034-4299-94ec-30237ddada42",
   "metadata": {},
   "source": [
    "Estrutura básica para se trabalhar com NumPy são os arrays. Os arrays possuem dimensão fixa, definida durante a criação."
   ]
  },
  {
   "cell_type": "markdown",
   "id": "b3c38c05-35ad-4063-8b00-4a5b78ef73b4",
   "metadata": {},
   "source": [
    "Propriedades básicas de um NDARRAY"
   ]
  },
  {
   "cell_type": "markdown",
   "id": "99e1a15c-9d03-430e-87f2-e3d14e84c1ad",
   "metadata": {},
   "source": [
    "* ndarray.ndim -> Número de dimensões\n",
    "* ndarray.shape -> tupla de inteiros que indica o tamanho de cada dimensão\n",
    "* ndarray.size -> Número total de elementos no array\n",
    "* ndarray.dtype -> Tipo dos elementos contidos no array"
   ]
  },
  {
   "cell_type": "code",
   "execution_count": 1,
   "id": "4c0097eb-b1fb-4912-9a9c-3c70deedb731",
   "metadata": {},
   "outputs": [
    {
     "name": "stdout",
     "output_type": "stream",
     "text": [
      "[[ 5  7  9]\n",
      " [ 6  8 10]]\n"
     ]
    }
   ],
   "source": [
    "import numpy as np\n",
    "array = np.array([[5,7,9],[6,8,10]]) # criando um NDARRAY com base em listas\n",
    "print(array)"
   ]
  },
  {
   "cell_type": "code",
   "execution_count": 2,
   "id": "4d9972ec-23ba-4ff7-be0c-c7cee257d2ef",
   "metadata": {},
   "outputs": [
    {
     "name": "stdout",
     "output_type": "stream",
     "text": [
      "2\n"
     ]
    }
   ],
   "source": [
    "print(array.ndim)"
   ]
  },
  {
   "cell_type": "code",
   "execution_count": 3,
   "id": "0b7b0065-b9a1-412d-897a-316c862cb2b3",
   "metadata": {},
   "outputs": [
    {
     "name": "stdout",
     "output_type": "stream",
     "text": [
      "(2, 3)\n"
     ]
    }
   ],
   "source": [
    "print(array.shape)"
   ]
  },
  {
   "cell_type": "code",
   "execution_count": 4,
   "id": "89c45314-1b6d-4d12-b9d4-f5d8a9b4bc18",
   "metadata": {},
   "outputs": [
    {
     "name": "stdout",
     "output_type": "stream",
     "text": [
      "int32\n"
     ]
    }
   ],
   "source": [
    "print(array.dtype)"
   ]
  },
  {
   "cell_type": "code",
   "execution_count": 5,
   "id": "6bea76f9-6a36-42b8-94d9-0e13ecfec85f",
   "metadata": {},
   "outputs": [
    {
     "name": "stdout",
     "output_type": "stream",
     "text": [
      "6\n"
     ]
    }
   ],
   "source": [
    "print(array.size)"
   ]
  },
  {
   "cell_type": "markdown",
   "id": "57e8d9d1-b0f9-42af-92c9-ca8912296816",
   "metadata": {},
   "source": [
    "### Criação de NDARRAY"
   ]
  },
  {
   "cell_type": "markdown",
   "id": "f282be10-d5c4-4a28-a79b-d84d984d2cde",
   "metadata": {},
   "source": [
    "Criando um array de dimensões 4x3 preenchidos com zeros"
   ]
  },
  {
   "cell_type": "code",
   "execution_count": 6,
   "id": "28fe8c13-4c9c-4c08-8625-7d530304bdcc",
   "metadata": {},
   "outputs": [
    {
     "name": "stdout",
     "output_type": "stream",
     "text": [
      "[[0. 0. 0.]\n",
      " [0. 0. 0.]\n",
      " [0. 0. 0.]\n",
      " [0. 0. 0.]]\n"
     ]
    }
   ],
   "source": [
    "array_zeros = np.zeros((4,3))\n",
    "print(array_zeros)"
   ]
  },
  {
   "cell_type": "markdown",
   "id": "0feb2669-c6eb-48a2-a167-335c143df08a",
   "metadata": {},
   "source": [
    "Criando um array de dmensões 4x3 preenchidos com uns"
   ]
  },
  {
   "cell_type": "code",
   "execution_count": 7,
   "id": "fa8f701b-f4fc-461f-a490-7965d65d3b55",
   "metadata": {},
   "outputs": [
    {
     "name": "stdout",
     "output_type": "stream",
     "text": [
      "[[1. 1. 1.]\n",
      " [1. 1. 1.]\n",
      " [1. 1. 1.]\n",
      " [1. 1. 1.]]\n"
     ]
    }
   ],
   "source": [
    "array_ones = np.ones((4,3))\n",
    "print(array_ones)"
   ]
  },
  {
   "cell_type": "markdown",
   "id": "aa48427d-0212-44d9-99e6-f90c784b4bc5",
   "metadata": {},
   "source": [
    "Criando um array preenchido com números aleatórios que dependem do estado da memória"
   ]
  },
  {
   "cell_type": "code",
   "execution_count": 8,
   "id": "2a9ae1e6-05ee-4c0e-a574-616c3d5670fc",
   "metadata": {},
   "outputs": [
    {
     "name": "stdout",
     "output_type": "stream",
     "text": [
      "[[0. 0. 0.]\n",
      " [0. 0. 0.]\n",
      " [0. 0. 0.]\n",
      " [0. 0. 0.]\n",
      " [0. 0. 0.]]\n"
     ]
    }
   ],
   "source": [
    "array_empty = np.empty((5,3))\n",
    "print(array_empty)"
   ]
  },
  {
   "cell_type": "markdown",
   "id": "a25270ea-5915-440e-833b-52cf6ec6cefc",
   "metadata": {},
   "source": [
    "Cria array preenchido com números pertencentes à um dado intervalo espaçados de determinado valor"
   ]
  },
  {
   "cell_type": "code",
   "execution_count": 9,
   "id": "8cb7c302-cafc-4afd-ad7c-5d187122dac4",
   "metadata": {},
   "outputs": [
    {
     "name": "stdout",
     "output_type": "stream",
     "text": [
      "[10 15 20 25]\n"
     ]
    }
   ],
   "source": [
    "array_arange = np.arange(10,30,5) # de 10 a 19 de 5 em 5\n",
    "print(array_arange)"
   ]
  },
  {
   "cell_type": "markdown",
   "id": "cbbd7ce5-b57c-4703-bc23-de7932eb5744",
   "metadata": {},
   "source": [
    "### Funções básicas aplicadas sobre um array\n",
    "* np.exp(V)\n",
    "* np.sqrt(V)\n",
    "* np.add(V.U)"
   ]
  },
  {
   "cell_type": "markdown",
   "id": "99df7a6e-a749-4deb-8a55-1e759105e1d4",
   "metadata": {},
   "source": [
    "### NDARRAY - Indexação\n",
    "* ndarray[i] -> retorna o conteúdo da posição i\n",
    "* ndarray[i:j] -> retorna os valores armazenados nas posições de i até j-1\n",
    "* ndarray[i.j.k] -> indexação multidimensional\n",
    "* ndarray[:.1] -> todas as linhas da segunda coluna\n",
    "* ndarray[1.:] -> todas as colunas da segunda linha"
   ]
  },
  {
   "cell_type": "markdown",
   "id": "1e2f14dc-5503-4c7e-8348-3ef40f522ae9",
   "metadata": {},
   "source": [
    "Os modos de indexação podem ser combinados de forma a obter diferentes resultados"
   ]
  },
  {
   "cell_type": "markdown",
   "id": "2892a477-9be0-4586-9102-961564af2386",
   "metadata": {},
   "source": [
    "### Interação com NDARRAY"
   ]
  },
  {
   "cell_type": "markdown",
   "id": "ae1fe69b-ce1e-4c8c-bced-233eedfd5c71",
   "metadata": {},
   "source": [
    "A iteração sobre um NDARRAY pode ser feita da mesma forma que as listas. Para cada dimensão do array se utiliza um for para chegar até os elementos."
   ]
  },
  {
   "cell_type": "code",
   "execution_count": 10,
   "id": "cb573b61-7395-486c-809e-b3756dd735db",
   "metadata": {},
   "outputs": [
    {
     "name": "stdout",
     "output_type": "stream",
     "text": [
      "1\n",
      "2\n",
      "3\n",
      "4\n",
      "5\n",
      "6\n",
      "7\n",
      "8\n",
      "9\n"
     ]
    }
   ],
   "source": [
    "array = np.array([[1,2,3],[4,5,6],[7,8,9]])\n",
    "\n",
    "for linha in array:\n",
    "    for coluna in linha:\n",
    "        print(coluna)"
   ]
  },
  {
   "cell_type": "markdown",
   "id": "7edb087f-669b-4206-9304-1aa787cb8cf1",
   "metadata": {},
   "source": [
    "### Iteração utilizando flat\n",
    "O Numpy oferece uma maneira mais simples de se iterar sobre os elementos unitários de um array multidimensional utilizando a propriedade flat"
   ]
  },
  {
   "cell_type": "code",
   "execution_count": 11,
   "id": "ce1273c5-3459-46e7-9224-6afc8e325594",
   "metadata": {},
   "outputs": [
    {
     "name": "stdout",
     "output_type": "stream",
     "text": [
      "1\n",
      "2\n",
      "3\n",
      "4\n",
      "5\n",
      "6\n",
      "7\n",
      "8\n",
      "9\n"
     ]
    }
   ],
   "source": [
    "array = np.array([[1,2,3],[4,5,6],[7,8,9]])\n",
    "for item in array.flat:\n",
    "    print(item)"
   ]
  },
  {
   "cell_type": "markdown",
   "id": "77500e9f-7dfd-4056-8f8e-eca0b6a05d00",
   "metadata": {},
   "source": [
    "### NDARRAY - manipulação de forma\n",
    "O Numpy permite que o usuário mude a forma do vetor, aumentando ou diminuindo suas dimensões distribuindo os elementos entre as dimensões.\n"
   ]
  },
  {
   "cell_type": "markdown",
   "id": "873d3581-8a22-4267-af47-b9639caa86d2",
   "metadata": {},
   "source": [
    "Por exemplo, um vetor com 10 elementos em apenas uma dimensão pode ser manipulado de forma que passe a ter duas dimensões 5 e 2."
   ]
  },
  {
   "cell_type": "markdown",
   "id": "93bddd04-85a8-4ef5-a9d0-ee149a3300c5",
   "metadata": {},
   "source": [
    "Neste exemplo, temos uma matriz bidimensional onde foi especificado que cada linha deve conter 5 elementos a cada coluna 2 elementos."
   ]
  },
  {
   "cell_type": "code",
   "execution_count": 12,
   "id": "8c245542-dfab-460c-bb57-b5a4b14d6cd0",
   "metadata": {},
   "outputs": [
    {
     "name": "stdout",
     "output_type": "stream",
     "text": [
      "(10,)\n"
     ]
    }
   ],
   "source": [
    "array = np.array([1,2,3,4,5,6,7,8,9,10])\n",
    "print(array.shape)"
   ]
  },
  {
   "cell_type": "code",
   "execution_count": 13,
   "id": "4896fb79",
   "metadata": {},
   "outputs": [
    {
     "name": "stdout",
     "output_type": "stream",
     "text": [
      "[[ 1  2]\n",
      " [ 3  4]\n",
      " [ 5  6]\n",
      " [ 7  8]\n",
      " [ 9 10]]\n",
      "Shape:  (5, 2)\n"
     ]
    }
   ],
   "source": [
    "novo_array = array.reshape(5,2)\n",
    "print(novo_array)\n",
    "print(\"Shape: \", novo_array.shape)"
   ]
  },
  {
   "cell_type": "code",
   "execution_count": null,
   "id": "531d88cb",
   "metadata": {},
   "outputs": [],
   "source": []
  }
 ],
 "metadata": {
  "kernelspec": {
   "display_name": "Python 3",
   "language": "python",
   "name": "python3"
  },
  "language_info": {
   "codemirror_mode": {
    "name": "ipython",
    "version": 3
   },
   "file_extension": ".py",
   "mimetype": "text/x-python",
   "name": "python",
   "nbconvert_exporter": "python",
   "pygments_lexer": "ipython3",
   "version": "3.8.8"
  }
 },
 "nbformat": 4,
 "nbformat_minor": 5
}
